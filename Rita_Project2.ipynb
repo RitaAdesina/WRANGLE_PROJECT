{
 "cells": [
  {
   "cell_type": "markdown",
   "id": "ce3f7792",
   "metadata": {},
   "source": [
    "# PROJECT 2: DATA WRANGLING"
   ]
  },
  {
   "cell_type": "markdown",
   "id": "46bfd700",
   "metadata": {},
   "source": [
    "For this project, i would use data gathered from 3 diffferent sources. The three different data used are;\n",
    "1. twitter_archive_enhanced.csv. as provided in the question.\n",
    "2. image_predictions.tsv also as provided in the project question\n",
    "3. tweet_json.txt which is to be provided by the student by querying a twitter API"
   ]
  },
  {
   "cell_type": "raw",
   "id": "c9cb86f1",
   "metadata": {},
   "source": [
    "# Import libraries needed to read and proceed with this project"
   ]
  },
  {
   "cell_type": "code",
   "execution_count": 1,
   "id": "cedb3664",
   "metadata": {},
   "outputs": [],
   "source": [
    "import pandas as pd\n",
    "import numpy as np\n",
    "import seaborn as sns\n",
    "import matplotlib.pyplot as plt\n",
    "%matplotlib inline\n",
    "\n",
    "import requests\n",
    "import os\n",
    "\n",
    "import tweepy \n",
    "from tweepy import OAuthHandler\n",
    "import json\n",
    "from timeit import default_timer as timer"
   ]
  },
  {
   "cell_type": "markdown",
   "id": "f155cbaa",
   "metadata": {},
   "source": [
    "## STEP 1: GATHERING DATA"
   ]
  },
  {
   "cell_type": "markdown",
   "id": "34e72cd7",
   "metadata": {},
   "source": [
    "### A- Twitter Archive Enhanced CSV \n"
   ]
  },
  {
   "cell_type": "code",
   "execution_count": 2,
   "id": "7d671b17",
   "metadata": {
    "scrolled": true
   },
   "outputs": [
    {
     "data": {
      "text/html": [
       "<div>\n",
       "<style scoped>\n",
       "    .dataframe tbody tr th:only-of-type {\n",
       "        vertical-align: middle;\n",
       "    }\n",
       "\n",
       "    .dataframe tbody tr th {\n",
       "        vertical-align: top;\n",
       "    }\n",
       "\n",
       "    .dataframe thead th {\n",
       "        text-align: right;\n",
       "    }\n",
       "</style>\n",
       "<table border=\"1\" class=\"dataframe\">\n",
       "  <thead>\n",
       "    <tr style=\"text-align: right;\">\n",
       "      <th></th>\n",
       "      <th>tweet_id</th>\n",
       "      <th>in_reply_to_status_id</th>\n",
       "      <th>in_reply_to_user_id</th>\n",
       "      <th>timestamp</th>\n",
       "      <th>source</th>\n",
       "      <th>text</th>\n",
       "      <th>retweeted_status_id</th>\n",
       "      <th>retweeted_status_user_id</th>\n",
       "      <th>retweeted_status_timestamp</th>\n",
       "      <th>expanded_urls</th>\n",
       "      <th>rating_numerator</th>\n",
       "      <th>rating_denominator</th>\n",
       "      <th>name</th>\n",
       "      <th>doggo</th>\n",
       "      <th>floofer</th>\n",
       "      <th>pupper</th>\n",
       "      <th>puppo</th>\n",
       "    </tr>\n",
       "  </thead>\n",
       "  <tbody>\n",
       "    <tr>\n",
       "      <th>0</th>\n",
       "      <td>892420643555336193</td>\n",
       "      <td>NaN</td>\n",
       "      <td>NaN</td>\n",
       "      <td>2017-08-01 16:23:56 +0000</td>\n",
       "      <td>&lt;a href=\"http://twitter.com/download/iphone\" r...</td>\n",
       "      <td>This is Phineas. He's a mystical boy. Only eve...</td>\n",
       "      <td>NaN</td>\n",
       "      <td>NaN</td>\n",
       "      <td>NaN</td>\n",
       "      <td>https://twitter.com/dog_rates/status/892420643...</td>\n",
       "      <td>13</td>\n",
       "      <td>10</td>\n",
       "      <td>Phineas</td>\n",
       "      <td>None</td>\n",
       "      <td>None</td>\n",
       "      <td>None</td>\n",
       "      <td>None</td>\n",
       "    </tr>\n",
       "    <tr>\n",
       "      <th>1</th>\n",
       "      <td>892177421306343426</td>\n",
       "      <td>NaN</td>\n",
       "      <td>NaN</td>\n",
       "      <td>2017-08-01 00:17:27 +0000</td>\n",
       "      <td>&lt;a href=\"http://twitter.com/download/iphone\" r...</td>\n",
       "      <td>This is Tilly. She's just checking pup on you....</td>\n",
       "      <td>NaN</td>\n",
       "      <td>NaN</td>\n",
       "      <td>NaN</td>\n",
       "      <td>https://twitter.com/dog_rates/status/892177421...</td>\n",
       "      <td>13</td>\n",
       "      <td>10</td>\n",
       "      <td>Tilly</td>\n",
       "      <td>None</td>\n",
       "      <td>None</td>\n",
       "      <td>None</td>\n",
       "      <td>None</td>\n",
       "    </tr>\n",
       "    <tr>\n",
       "      <th>2</th>\n",
       "      <td>891815181378084864</td>\n",
       "      <td>NaN</td>\n",
       "      <td>NaN</td>\n",
       "      <td>2017-07-31 00:18:03 +0000</td>\n",
       "      <td>&lt;a href=\"http://twitter.com/download/iphone\" r...</td>\n",
       "      <td>This is Archie. He is a rare Norwegian Pouncin...</td>\n",
       "      <td>NaN</td>\n",
       "      <td>NaN</td>\n",
       "      <td>NaN</td>\n",
       "      <td>https://twitter.com/dog_rates/status/891815181...</td>\n",
       "      <td>12</td>\n",
       "      <td>10</td>\n",
       "      <td>Archie</td>\n",
       "      <td>None</td>\n",
       "      <td>None</td>\n",
       "      <td>None</td>\n",
       "      <td>None</td>\n",
       "    </tr>\n",
       "    <tr>\n",
       "      <th>3</th>\n",
       "      <td>891689557279858688</td>\n",
       "      <td>NaN</td>\n",
       "      <td>NaN</td>\n",
       "      <td>2017-07-30 15:58:51 +0000</td>\n",
       "      <td>&lt;a href=\"http://twitter.com/download/iphone\" r...</td>\n",
       "      <td>This is Darla. She commenced a snooze mid meal...</td>\n",
       "      <td>NaN</td>\n",
       "      <td>NaN</td>\n",
       "      <td>NaN</td>\n",
       "      <td>https://twitter.com/dog_rates/status/891689557...</td>\n",
       "      <td>13</td>\n",
       "      <td>10</td>\n",
       "      <td>Darla</td>\n",
       "      <td>None</td>\n",
       "      <td>None</td>\n",
       "      <td>None</td>\n",
       "      <td>None</td>\n",
       "    </tr>\n",
       "    <tr>\n",
       "      <th>4</th>\n",
       "      <td>891327558926688256</td>\n",
       "      <td>NaN</td>\n",
       "      <td>NaN</td>\n",
       "      <td>2017-07-29 16:00:24 +0000</td>\n",
       "      <td>&lt;a href=\"http://twitter.com/download/iphone\" r...</td>\n",
       "      <td>This is Franklin. He would like you to stop ca...</td>\n",
       "      <td>NaN</td>\n",
       "      <td>NaN</td>\n",
       "      <td>NaN</td>\n",
       "      <td>https://twitter.com/dog_rates/status/891327558...</td>\n",
       "      <td>12</td>\n",
       "      <td>10</td>\n",
       "      <td>Franklin</td>\n",
       "      <td>None</td>\n",
       "      <td>None</td>\n",
       "      <td>None</td>\n",
       "      <td>None</td>\n",
       "    </tr>\n",
       "  </tbody>\n",
       "</table>\n",
       "</div>"
      ],
      "text/plain": [
       "             tweet_id  in_reply_to_status_id  in_reply_to_user_id  \\\n",
       "0  892420643555336193                    NaN                  NaN   \n",
       "1  892177421306343426                    NaN                  NaN   \n",
       "2  891815181378084864                    NaN                  NaN   \n",
       "3  891689557279858688                    NaN                  NaN   \n",
       "4  891327558926688256                    NaN                  NaN   \n",
       "\n",
       "                   timestamp  \\\n",
       "0  2017-08-01 16:23:56 +0000   \n",
       "1  2017-08-01 00:17:27 +0000   \n",
       "2  2017-07-31 00:18:03 +0000   \n",
       "3  2017-07-30 15:58:51 +0000   \n",
       "4  2017-07-29 16:00:24 +0000   \n",
       "\n",
       "                                              source  \\\n",
       "0  <a href=\"http://twitter.com/download/iphone\" r...   \n",
       "1  <a href=\"http://twitter.com/download/iphone\" r...   \n",
       "2  <a href=\"http://twitter.com/download/iphone\" r...   \n",
       "3  <a href=\"http://twitter.com/download/iphone\" r...   \n",
       "4  <a href=\"http://twitter.com/download/iphone\" r...   \n",
       "\n",
       "                                                text  retweeted_status_id  \\\n",
       "0  This is Phineas. He's a mystical boy. Only eve...                  NaN   \n",
       "1  This is Tilly. She's just checking pup on you....                  NaN   \n",
       "2  This is Archie. He is a rare Norwegian Pouncin...                  NaN   \n",
       "3  This is Darla. She commenced a snooze mid meal...                  NaN   \n",
       "4  This is Franklin. He would like you to stop ca...                  NaN   \n",
       "\n",
       "   retweeted_status_user_id retweeted_status_timestamp  \\\n",
       "0                       NaN                        NaN   \n",
       "1                       NaN                        NaN   \n",
       "2                       NaN                        NaN   \n",
       "3                       NaN                        NaN   \n",
       "4                       NaN                        NaN   \n",
       "\n",
       "                                       expanded_urls  rating_numerator  \\\n",
       "0  https://twitter.com/dog_rates/status/892420643...                13   \n",
       "1  https://twitter.com/dog_rates/status/892177421...                13   \n",
       "2  https://twitter.com/dog_rates/status/891815181...                12   \n",
       "3  https://twitter.com/dog_rates/status/891689557...                13   \n",
       "4  https://twitter.com/dog_rates/status/891327558...                12   \n",
       "\n",
       "   rating_denominator      name doggo floofer pupper puppo  \n",
       "0                  10   Phineas  None    None   None  None  \n",
       "1                  10     Tilly  None    None   None  None  \n",
       "2                  10    Archie  None    None   None  None  \n",
       "3                  10     Darla  None    None   None  None  \n",
       "4                  10  Franklin  None    None   None  None  "
      ]
     },
     "execution_count": 2,
     "metadata": {},
     "output_type": "execute_result"
    }
   ],
   "source": [
    "#To read and display my first data\n",
    "\n",
    "df=pd.read_csv(\"twitter-archive-enhanced.csv\")\n",
    "df.head()\n"
   ]
  },
  {
   "cell_type": "code",
   "execution_count": 3,
   "id": "1d879e30",
   "metadata": {},
   "outputs": [
    {
     "data": {
      "text/plain": [
       "(2356, 17)"
      ]
     },
     "execution_count": 3,
     "metadata": {},
     "output_type": "execute_result"
    }
   ],
   "source": [
    "#To ascertain the file structure- we see that it has 2,356 rows and 17 columns.\n",
    "df.shape"
   ]
  },
  {
   "cell_type": "markdown",
   "id": "7cf94d57",
   "metadata": {},
   "source": [
    "### B- Image Prediction TSV\n"
   ]
  },
  {
   "cell_type": "markdown",
   "id": "c1d15d1f",
   "metadata": {},
   "source": [
    "Using request and OS library to gather this file."
   ]
  },
  {
   "cell_type": "code",
   "execution_count": 4,
   "id": "3fdfab8d",
   "metadata": {},
   "outputs": [],
   "source": [
    "#Using the requests library to download the tweet image prediction\n",
    "url = 'https://d17h27t6h515a5.cloudfront.net/topher/2017/August/599fd2ad_image-predictions/image-predictions.tsv'\n",
    "reponse = requests.get(url)\n",
    "with open(\"image_predictions.tsv\", mode = 'wb') as file:\n",
    "    file.write(reponse.content)"
   ]
  },
  {
   "cell_type": "code",
   "execution_count": 5,
   "id": "4d551279",
   "metadata": {},
   "outputs": [
    {
     "data": {
      "text/html": [
       "<div>\n",
       "<style scoped>\n",
       "    .dataframe tbody tr th:only-of-type {\n",
       "        vertical-align: middle;\n",
       "    }\n",
       "\n",
       "    .dataframe tbody tr th {\n",
       "        vertical-align: top;\n",
       "    }\n",
       "\n",
       "    .dataframe thead th {\n",
       "        text-align: right;\n",
       "    }\n",
       "</style>\n",
       "<table border=\"1\" class=\"dataframe\">\n",
       "  <thead>\n",
       "    <tr style=\"text-align: right;\">\n",
       "      <th></th>\n",
       "      <th>tweet_id</th>\n",
       "      <th>jpg_url</th>\n",
       "      <th>img_num</th>\n",
       "      <th>p1</th>\n",
       "      <th>p1_conf</th>\n",
       "      <th>p1_dog</th>\n",
       "      <th>p2</th>\n",
       "      <th>p2_conf</th>\n",
       "      <th>p2_dog</th>\n",
       "      <th>p3</th>\n",
       "      <th>p3_conf</th>\n",
       "      <th>p3_dog</th>\n",
       "    </tr>\n",
       "  </thead>\n",
       "  <tbody>\n",
       "    <tr>\n",
       "      <th>0</th>\n",
       "      <td>666020888022790149</td>\n",
       "      <td>https://pbs.twimg.com/media/CT4udn0WwAA0aMy.jpg</td>\n",
       "      <td>1</td>\n",
       "      <td>Welsh_springer_spaniel</td>\n",
       "      <td>0.465074</td>\n",
       "      <td>True</td>\n",
       "      <td>collie</td>\n",
       "      <td>0.156665</td>\n",
       "      <td>True</td>\n",
       "      <td>Shetland_sheepdog</td>\n",
       "      <td>0.061428</td>\n",
       "      <td>True</td>\n",
       "    </tr>\n",
       "    <tr>\n",
       "      <th>1</th>\n",
       "      <td>666029285002620928</td>\n",
       "      <td>https://pbs.twimg.com/media/CT42GRgUYAA5iDo.jpg</td>\n",
       "      <td>1</td>\n",
       "      <td>redbone</td>\n",
       "      <td>0.506826</td>\n",
       "      <td>True</td>\n",
       "      <td>miniature_pinscher</td>\n",
       "      <td>0.074192</td>\n",
       "      <td>True</td>\n",
       "      <td>Rhodesian_ridgeback</td>\n",
       "      <td>0.072010</td>\n",
       "      <td>True</td>\n",
       "    </tr>\n",
       "    <tr>\n",
       "      <th>2</th>\n",
       "      <td>666033412701032449</td>\n",
       "      <td>https://pbs.twimg.com/media/CT4521TWwAEvMyu.jpg</td>\n",
       "      <td>1</td>\n",
       "      <td>German_shepherd</td>\n",
       "      <td>0.596461</td>\n",
       "      <td>True</td>\n",
       "      <td>malinois</td>\n",
       "      <td>0.138584</td>\n",
       "      <td>True</td>\n",
       "      <td>bloodhound</td>\n",
       "      <td>0.116197</td>\n",
       "      <td>True</td>\n",
       "    </tr>\n",
       "    <tr>\n",
       "      <th>3</th>\n",
       "      <td>666044226329800704</td>\n",
       "      <td>https://pbs.twimg.com/media/CT5Dr8HUEAA-lEu.jpg</td>\n",
       "      <td>1</td>\n",
       "      <td>Rhodesian_ridgeback</td>\n",
       "      <td>0.408143</td>\n",
       "      <td>True</td>\n",
       "      <td>redbone</td>\n",
       "      <td>0.360687</td>\n",
       "      <td>True</td>\n",
       "      <td>miniature_pinscher</td>\n",
       "      <td>0.222752</td>\n",
       "      <td>True</td>\n",
       "    </tr>\n",
       "    <tr>\n",
       "      <th>4</th>\n",
       "      <td>666049248165822465</td>\n",
       "      <td>https://pbs.twimg.com/media/CT5IQmsXIAAKY4A.jpg</td>\n",
       "      <td>1</td>\n",
       "      <td>miniature_pinscher</td>\n",
       "      <td>0.560311</td>\n",
       "      <td>True</td>\n",
       "      <td>Rottweiler</td>\n",
       "      <td>0.243682</td>\n",
       "      <td>True</td>\n",
       "      <td>Doberman</td>\n",
       "      <td>0.154629</td>\n",
       "      <td>True</td>\n",
       "    </tr>\n",
       "  </tbody>\n",
       "</table>\n",
       "</div>"
      ],
      "text/plain": [
       "             tweet_id                                          jpg_url  \\\n",
       "0  666020888022790149  https://pbs.twimg.com/media/CT4udn0WwAA0aMy.jpg   \n",
       "1  666029285002620928  https://pbs.twimg.com/media/CT42GRgUYAA5iDo.jpg   \n",
       "2  666033412701032449  https://pbs.twimg.com/media/CT4521TWwAEvMyu.jpg   \n",
       "3  666044226329800704  https://pbs.twimg.com/media/CT5Dr8HUEAA-lEu.jpg   \n",
       "4  666049248165822465  https://pbs.twimg.com/media/CT5IQmsXIAAKY4A.jpg   \n",
       "\n",
       "   img_num                      p1   p1_conf  p1_dog                  p2  \\\n",
       "0        1  Welsh_springer_spaniel  0.465074    True              collie   \n",
       "1        1                 redbone  0.506826    True  miniature_pinscher   \n",
       "2        1         German_shepherd  0.596461    True            malinois   \n",
       "3        1     Rhodesian_ridgeback  0.408143    True             redbone   \n",
       "4        1      miniature_pinscher  0.560311    True          Rottweiler   \n",
       "\n",
       "    p2_conf  p2_dog                   p3   p3_conf  p3_dog  \n",
       "0  0.156665    True    Shetland_sheepdog  0.061428    True  \n",
       "1  0.074192    True  Rhodesian_ridgeback  0.072010    True  \n",
       "2  0.138584    True           bloodhound  0.116197    True  \n",
       "3  0.360687    True   miniature_pinscher  0.222752    True  \n",
       "4  0.243682    True             Doberman  0.154629    True  "
      ]
     },
     "execution_count": 5,
     "metadata": {},
     "output_type": "execute_result"
    }
   ],
   "source": [
    "#To read and display the data \n",
    "\n",
    "df_image= pd.read_csv(\"image_predictions.tsv\", sep = '\\t')\n",
    "df_image.head()"
   ]
  },
  {
   "cell_type": "code",
   "execution_count": 6,
   "id": "75edbdb4",
   "metadata": {},
   "outputs": [
    {
     "data": {
      "text/plain": [
       "(2075, 12)"
      ]
     },
     "execution_count": 6,
     "metadata": {},
     "output_type": "execute_result"
    }
   ],
   "source": [
    "#To ascertain the file structure. We can see it has 2075 rows amd 12 columns.\n",
    "\n",
    "df_image.shape"
   ]
  },
  {
   "cell_type": "markdown",
   "id": "a7787e9c",
   "metadata": {},
   "source": [
    "### C- JSON Text"
   ]
  },
  {
   "cell_type": "code",
   "execution_count": 7,
   "id": "0f92fc28",
   "metadata": {
    "scrolled": true
   },
   "outputs": [],
   "source": [
    "\n",
    "# the following confidential data has been replaced by generic strings\n",
    "\n",
    "consumer_key = 'Y2VGELSqQmRlAAMVUJI1g0jlW'\n",
    "consumer_secret = 'BrWhNCKqPSw8tqAqxdyy44h1BE1mMSVRwf8gxH6WYq96MIJYB7'\n",
    "access_token = '4876230989-KxcZbTvZDkT2SPQwufBf9g1RwTSxsgG6poqUt6m'\n",
    "access_secret = 'MGffdtaFM51kEwsQoIQZlwNS2A6OsoN2PEaW23w1ZbCBb'\n",
    "auth = tweepy.OAuthHandler(consumer_key, consumer_secret)\n",
    "auth.set_access_token(access_token, access_secret)\n",
    "api = tweepy.API(auth, wait_on_rate_limit=True)"
   ]
  },
  {
   "cell_type": "code",
   "execution_count": 8,
   "id": "3fa09444",
   "metadata": {},
   "outputs": [],
   "source": [
    "#To access the ddta needed that is not inluded in the raw data provided\n",
    "\n",
    "failed_tweet = []\n",
    "with open('tweet_json.txt', mode='w', encoding='utf-8') as file:\n",
    "    for tweet_id in df['tweet_id']:\n",
    "        try:\n",
    "            tweet = api.get_status(tweet_id, tweet_mode='extended')\n",
    "            tweet_json = json.dumps(tweet._json)\n",
    "            # write tweet JSON data line by line\n",
    "            file.write(tweet_json + '\\n')\n",
    "        except:\n",
    "            failed_tweet.append(tweet_id)"
   ]
  },
  {
   "cell_type": "code",
   "execution_count": 9,
   "id": "ed8d0a25",
   "metadata": {},
   "outputs": [],
   "source": [
    "#To open a file new reading the data accessed line by line.\n",
    "df_list = []\n",
    "with open('tweet_json.txt', mode='r', encoding='utf-8') as file:\n",
    "    lines = file.readlines()\n",
    "    # read tweet JSON data line by line\n",
    "    for line in lines:\n",
    "        data = json.loads(line)\n",
    "        tweet_id = data['id']\n",
    "        retweet_count = data['retweet_count']\n",
    "        favorite_count = data['favorite_count']\n",
    "        df_list.append({'tweet_id': tweet_id, 'retweet_count': retweet_count, 'favorite_count': favorite_count})\n",
    "tweet_data = pd.DataFrame(df_list, columns=['tweet_id', 'retweet_count', 'favorite_count'])"
   ]
  },
  {
   "cell_type": "code",
   "execution_count": 10,
   "id": "05c88862",
   "metadata": {},
   "outputs": [
    {
     "data": {
      "text/html": [
       "<div>\n",
       "<style scoped>\n",
       "    .dataframe tbody tr th:only-of-type {\n",
       "        vertical-align: middle;\n",
       "    }\n",
       "\n",
       "    .dataframe tbody tr th {\n",
       "        vertical-align: top;\n",
       "    }\n",
       "\n",
       "    .dataframe thead th {\n",
       "        text-align: right;\n",
       "    }\n",
       "</style>\n",
       "<table border=\"1\" class=\"dataframe\">\n",
       "  <thead>\n",
       "    <tr style=\"text-align: right;\">\n",
       "      <th></th>\n",
       "      <th>tweet_id</th>\n",
       "      <th>retweet_count</th>\n",
       "      <th>favorite_count</th>\n",
       "    </tr>\n",
       "  </thead>\n",
       "  <tbody>\n",
       "    <tr>\n",
       "      <th>0</th>\n",
       "      <td>892420643555336193</td>\n",
       "      <td>6934</td>\n",
       "      <td>33219</td>\n",
       "    </tr>\n",
       "    <tr>\n",
       "      <th>1</th>\n",
       "      <td>892177421306343426</td>\n",
       "      <td>5239</td>\n",
       "      <td>28755</td>\n",
       "    </tr>\n",
       "    <tr>\n",
       "      <th>2</th>\n",
       "      <td>891815181378084864</td>\n",
       "      <td>3452</td>\n",
       "      <td>21624</td>\n",
       "    </tr>\n",
       "    <tr>\n",
       "      <th>3</th>\n",
       "      <td>891689557279858688</td>\n",
       "      <td>7147</td>\n",
       "      <td>36229</td>\n",
       "    </tr>\n",
       "    <tr>\n",
       "      <th>4</th>\n",
       "      <td>891327558926688256</td>\n",
       "      <td>7677</td>\n",
       "      <td>34659</td>\n",
       "    </tr>\n",
       "    <tr>\n",
       "      <th>...</th>\n",
       "      <td>...</td>\n",
       "      <td>...</td>\n",
       "      <td>...</td>\n",
       "    </tr>\n",
       "    <tr>\n",
       "      <th>2320</th>\n",
       "      <td>666049248165822465</td>\n",
       "      <td>36</td>\n",
       "      <td>88</td>\n",
       "    </tr>\n",
       "    <tr>\n",
       "      <th>2321</th>\n",
       "      <td>666044226329800704</td>\n",
       "      <td>114</td>\n",
       "      <td>246</td>\n",
       "    </tr>\n",
       "    <tr>\n",
       "      <th>2322</th>\n",
       "      <td>666033412701032449</td>\n",
       "      <td>36</td>\n",
       "      <td>99</td>\n",
       "    </tr>\n",
       "    <tr>\n",
       "      <th>2323</th>\n",
       "      <td>666029285002620928</td>\n",
       "      <td>39</td>\n",
       "      <td>111</td>\n",
       "    </tr>\n",
       "    <tr>\n",
       "      <th>2324</th>\n",
       "      <td>666020888022790149</td>\n",
       "      <td>418</td>\n",
       "      <td>2253</td>\n",
       "    </tr>\n",
       "  </tbody>\n",
       "</table>\n",
       "<p>2325 rows × 3 columns</p>\n",
       "</div>"
      ],
      "text/plain": [
       "                tweet_id  retweet_count  favorite_count\n",
       "0     892420643555336193           6934           33219\n",
       "1     892177421306343426           5239           28755\n",
       "2     891815181378084864           3452           21624\n",
       "3     891689557279858688           7147           36229\n",
       "4     891327558926688256           7677           34659\n",
       "...                  ...            ...             ...\n",
       "2320  666049248165822465             36              88\n",
       "2321  666044226329800704            114             246\n",
       "2322  666033412701032449             36              99\n",
       "2323  666029285002620928             39             111\n",
       "2324  666020888022790149            418            2253\n",
       "\n",
       "[2325 rows x 3 columns]"
      ]
     },
     "execution_count": 10,
     "metadata": {},
     "output_type": "execute_result"
    }
   ],
   "source": [
    "#To confirm that my code worked\n",
    "tweet_data"
   ]
  },
  {
   "cell_type": "code",
   "execution_count": null,
   "id": "553af754",
   "metadata": {},
   "outputs": [],
   "source": []
  },
  {
   "cell_type": "code",
   "execution_count": null,
   "id": "80d1f379",
   "metadata": {
    "scrolled": false
   },
   "outputs": [],
   "source": []
  },
  {
   "cell_type": "markdown",
   "id": "e4e337e4",
   "metadata": {},
   "source": [
    "All the date has been fully gathered and the structured,\n",
    "\n",
    "#On to the Next step of Accessing the Data"
   ]
  },
  {
   "cell_type": "markdown",
   "id": "fd0e8120",
   "metadata": {},
   "source": [
    "## ASSESSING DATA"
   ]
  },
  {
   "cell_type": "markdown",
   "id": "939d7b6b",
   "metadata": {},
   "source": [
    "### In this section, i hope to highlight and display the 8 quality data isues and 2 tidiness issues as required by the project.\n",
    "\n"
   ]
  },
  {
   "cell_type": "markdown",
   "id": "e276ed9b",
   "metadata": {},
   "source": [
    "#### Quality issues are issues that affects the content of the cells of the dataframe\n",
    "#### Tidiness issues are issues that affect the structure of the data"
   ]
  },
  {
   "cell_type": "markdown",
   "id": "76923e80",
   "metadata": {},
   "source": [
    "### Assessing and Displaying The Image Prediction Data"
   ]
  },
  {
   "cell_type": "code",
   "execution_count": 11,
   "id": "98898e20",
   "metadata": {},
   "outputs": [
    {
     "data": {
      "text/html": [
       "<div>\n",
       "<style scoped>\n",
       "    .dataframe tbody tr th:only-of-type {\n",
       "        vertical-align: middle;\n",
       "    }\n",
       "\n",
       "    .dataframe tbody tr th {\n",
       "        vertical-align: top;\n",
       "    }\n",
       "\n",
       "    .dataframe thead th {\n",
       "        text-align: right;\n",
       "    }\n",
       "</style>\n",
       "<table border=\"1\" class=\"dataframe\">\n",
       "  <thead>\n",
       "    <tr style=\"text-align: right;\">\n",
       "      <th></th>\n",
       "      <th>tweet_id</th>\n",
       "      <th>jpg_url</th>\n",
       "      <th>img_num</th>\n",
       "      <th>p1</th>\n",
       "      <th>p1_conf</th>\n",
       "      <th>p1_dog</th>\n",
       "      <th>p2</th>\n",
       "      <th>p2_conf</th>\n",
       "      <th>p2_dog</th>\n",
       "      <th>p3</th>\n",
       "      <th>p3_conf</th>\n",
       "      <th>p3_dog</th>\n",
       "    </tr>\n",
       "  </thead>\n",
       "  <tbody>\n",
       "    <tr>\n",
       "      <th>0</th>\n",
       "      <td>666020888022790149</td>\n",
       "      <td>https://pbs.twimg.com/media/CT4udn0WwAA0aMy.jpg</td>\n",
       "      <td>1</td>\n",
       "      <td>Welsh_springer_spaniel</td>\n",
       "      <td>0.465074</td>\n",
       "      <td>True</td>\n",
       "      <td>collie</td>\n",
       "      <td>0.156665</td>\n",
       "      <td>True</td>\n",
       "      <td>Shetland_sheepdog</td>\n",
       "      <td>0.061428</td>\n",
       "      <td>True</td>\n",
       "    </tr>\n",
       "    <tr>\n",
       "      <th>1</th>\n",
       "      <td>666029285002620928</td>\n",
       "      <td>https://pbs.twimg.com/media/CT42GRgUYAA5iDo.jpg</td>\n",
       "      <td>1</td>\n",
       "      <td>redbone</td>\n",
       "      <td>0.506826</td>\n",
       "      <td>True</td>\n",
       "      <td>miniature_pinscher</td>\n",
       "      <td>0.074192</td>\n",
       "      <td>True</td>\n",
       "      <td>Rhodesian_ridgeback</td>\n",
       "      <td>0.072010</td>\n",
       "      <td>True</td>\n",
       "    </tr>\n",
       "    <tr>\n",
       "      <th>2</th>\n",
       "      <td>666033412701032449</td>\n",
       "      <td>https://pbs.twimg.com/media/CT4521TWwAEvMyu.jpg</td>\n",
       "      <td>1</td>\n",
       "      <td>German_shepherd</td>\n",
       "      <td>0.596461</td>\n",
       "      <td>True</td>\n",
       "      <td>malinois</td>\n",
       "      <td>0.138584</td>\n",
       "      <td>True</td>\n",
       "      <td>bloodhound</td>\n",
       "      <td>0.116197</td>\n",
       "      <td>True</td>\n",
       "    </tr>\n",
       "    <tr>\n",
       "      <th>3</th>\n",
       "      <td>666044226329800704</td>\n",
       "      <td>https://pbs.twimg.com/media/CT5Dr8HUEAA-lEu.jpg</td>\n",
       "      <td>1</td>\n",
       "      <td>Rhodesian_ridgeback</td>\n",
       "      <td>0.408143</td>\n",
       "      <td>True</td>\n",
       "      <td>redbone</td>\n",
       "      <td>0.360687</td>\n",
       "      <td>True</td>\n",
       "      <td>miniature_pinscher</td>\n",
       "      <td>0.222752</td>\n",
       "      <td>True</td>\n",
       "    </tr>\n",
       "    <tr>\n",
       "      <th>4</th>\n",
       "      <td>666049248165822465</td>\n",
       "      <td>https://pbs.twimg.com/media/CT5IQmsXIAAKY4A.jpg</td>\n",
       "      <td>1</td>\n",
       "      <td>miniature_pinscher</td>\n",
       "      <td>0.560311</td>\n",
       "      <td>True</td>\n",
       "      <td>Rottweiler</td>\n",
       "      <td>0.243682</td>\n",
       "      <td>True</td>\n",
       "      <td>Doberman</td>\n",
       "      <td>0.154629</td>\n",
       "      <td>True</td>\n",
       "    </tr>\n",
       "    <tr>\n",
       "      <th>...</th>\n",
       "      <td>...</td>\n",
       "      <td>...</td>\n",
       "      <td>...</td>\n",
       "      <td>...</td>\n",
       "      <td>...</td>\n",
       "      <td>...</td>\n",
       "      <td>...</td>\n",
       "      <td>...</td>\n",
       "      <td>...</td>\n",
       "      <td>...</td>\n",
       "      <td>...</td>\n",
       "      <td>...</td>\n",
       "    </tr>\n",
       "    <tr>\n",
       "      <th>2070</th>\n",
       "      <td>891327558926688256</td>\n",
       "      <td>https://pbs.twimg.com/media/DF6hr6BUMAAzZgT.jpg</td>\n",
       "      <td>2</td>\n",
       "      <td>basset</td>\n",
       "      <td>0.555712</td>\n",
       "      <td>True</td>\n",
       "      <td>English_springer</td>\n",
       "      <td>0.225770</td>\n",
       "      <td>True</td>\n",
       "      <td>German_short-haired_pointer</td>\n",
       "      <td>0.175219</td>\n",
       "      <td>True</td>\n",
       "    </tr>\n",
       "    <tr>\n",
       "      <th>2071</th>\n",
       "      <td>891689557279858688</td>\n",
       "      <td>https://pbs.twimg.com/media/DF_q7IAWsAEuuN8.jpg</td>\n",
       "      <td>1</td>\n",
       "      <td>paper_towel</td>\n",
       "      <td>0.170278</td>\n",
       "      <td>False</td>\n",
       "      <td>Labrador_retriever</td>\n",
       "      <td>0.168086</td>\n",
       "      <td>True</td>\n",
       "      <td>spatula</td>\n",
       "      <td>0.040836</td>\n",
       "      <td>False</td>\n",
       "    </tr>\n",
       "    <tr>\n",
       "      <th>2072</th>\n",
       "      <td>891815181378084864</td>\n",
       "      <td>https://pbs.twimg.com/media/DGBdLU1WsAANxJ9.jpg</td>\n",
       "      <td>1</td>\n",
       "      <td>Chihuahua</td>\n",
       "      <td>0.716012</td>\n",
       "      <td>True</td>\n",
       "      <td>malamute</td>\n",
       "      <td>0.078253</td>\n",
       "      <td>True</td>\n",
       "      <td>kelpie</td>\n",
       "      <td>0.031379</td>\n",
       "      <td>True</td>\n",
       "    </tr>\n",
       "    <tr>\n",
       "      <th>2073</th>\n",
       "      <td>892177421306343426</td>\n",
       "      <td>https://pbs.twimg.com/media/DGGmoV4XsAAUL6n.jpg</td>\n",
       "      <td>1</td>\n",
       "      <td>Chihuahua</td>\n",
       "      <td>0.323581</td>\n",
       "      <td>True</td>\n",
       "      <td>Pekinese</td>\n",
       "      <td>0.090647</td>\n",
       "      <td>True</td>\n",
       "      <td>papillon</td>\n",
       "      <td>0.068957</td>\n",
       "      <td>True</td>\n",
       "    </tr>\n",
       "    <tr>\n",
       "      <th>2074</th>\n",
       "      <td>892420643555336193</td>\n",
       "      <td>https://pbs.twimg.com/media/DGKD1-bXoAAIAUK.jpg</td>\n",
       "      <td>1</td>\n",
       "      <td>orange</td>\n",
       "      <td>0.097049</td>\n",
       "      <td>False</td>\n",
       "      <td>bagel</td>\n",
       "      <td>0.085851</td>\n",
       "      <td>False</td>\n",
       "      <td>banana</td>\n",
       "      <td>0.076110</td>\n",
       "      <td>False</td>\n",
       "    </tr>\n",
       "  </tbody>\n",
       "</table>\n",
       "<p>2075 rows × 12 columns</p>\n",
       "</div>"
      ],
      "text/plain": [
       "                tweet_id                                          jpg_url  \\\n",
       "0     666020888022790149  https://pbs.twimg.com/media/CT4udn0WwAA0aMy.jpg   \n",
       "1     666029285002620928  https://pbs.twimg.com/media/CT42GRgUYAA5iDo.jpg   \n",
       "2     666033412701032449  https://pbs.twimg.com/media/CT4521TWwAEvMyu.jpg   \n",
       "3     666044226329800704  https://pbs.twimg.com/media/CT5Dr8HUEAA-lEu.jpg   \n",
       "4     666049248165822465  https://pbs.twimg.com/media/CT5IQmsXIAAKY4A.jpg   \n",
       "...                  ...                                              ...   \n",
       "2070  891327558926688256  https://pbs.twimg.com/media/DF6hr6BUMAAzZgT.jpg   \n",
       "2071  891689557279858688  https://pbs.twimg.com/media/DF_q7IAWsAEuuN8.jpg   \n",
       "2072  891815181378084864  https://pbs.twimg.com/media/DGBdLU1WsAANxJ9.jpg   \n",
       "2073  892177421306343426  https://pbs.twimg.com/media/DGGmoV4XsAAUL6n.jpg   \n",
       "2074  892420643555336193  https://pbs.twimg.com/media/DGKD1-bXoAAIAUK.jpg   \n",
       "\n",
       "      img_num                      p1   p1_conf  p1_dog                  p2  \\\n",
       "0           1  Welsh_springer_spaniel  0.465074    True              collie   \n",
       "1           1                 redbone  0.506826    True  miniature_pinscher   \n",
       "2           1         German_shepherd  0.596461    True            malinois   \n",
       "3           1     Rhodesian_ridgeback  0.408143    True             redbone   \n",
       "4           1      miniature_pinscher  0.560311    True          Rottweiler   \n",
       "...       ...                     ...       ...     ...                 ...   \n",
       "2070        2                  basset  0.555712    True    English_springer   \n",
       "2071        1             paper_towel  0.170278   False  Labrador_retriever   \n",
       "2072        1               Chihuahua  0.716012    True            malamute   \n",
       "2073        1               Chihuahua  0.323581    True            Pekinese   \n",
       "2074        1                  orange  0.097049   False               bagel   \n",
       "\n",
       "       p2_conf  p2_dog                           p3   p3_conf  p3_dog  \n",
       "0     0.156665    True            Shetland_sheepdog  0.061428    True  \n",
       "1     0.074192    True          Rhodesian_ridgeback  0.072010    True  \n",
       "2     0.138584    True                   bloodhound  0.116197    True  \n",
       "3     0.360687    True           miniature_pinscher  0.222752    True  \n",
       "4     0.243682    True                     Doberman  0.154629    True  \n",
       "...        ...     ...                          ...       ...     ...  \n",
       "2070  0.225770    True  German_short-haired_pointer  0.175219    True  \n",
       "2071  0.168086    True                      spatula  0.040836   False  \n",
       "2072  0.078253    True                       kelpie  0.031379    True  \n",
       "2073  0.090647    True                     papillon  0.068957    True  \n",
       "2074  0.085851   False                       banana  0.076110   False  \n",
       "\n",
       "[2075 rows x 12 columns]"
      ]
     },
     "execution_count": 11,
     "metadata": {},
     "output_type": "execute_result"
    }
   ],
   "source": [
    "#Firstly, I will display the content of my image prediction.tsv  \n",
    "\n",
    "df_image"
   ]
  },
  {
   "cell_type": "code",
   "execution_count": 12,
   "id": "57a54b20",
   "metadata": {},
   "outputs": [
    {
     "data": {
      "text/plain": [
       "<bound method DataFrame.info of                 tweet_id                                          jpg_url  \\\n",
       "0     666020888022790149  https://pbs.twimg.com/media/CT4udn0WwAA0aMy.jpg   \n",
       "1     666029285002620928  https://pbs.twimg.com/media/CT42GRgUYAA5iDo.jpg   \n",
       "2     666033412701032449  https://pbs.twimg.com/media/CT4521TWwAEvMyu.jpg   \n",
       "3     666044226329800704  https://pbs.twimg.com/media/CT5Dr8HUEAA-lEu.jpg   \n",
       "4     666049248165822465  https://pbs.twimg.com/media/CT5IQmsXIAAKY4A.jpg   \n",
       "...                  ...                                              ...   \n",
       "2070  891327558926688256  https://pbs.twimg.com/media/DF6hr6BUMAAzZgT.jpg   \n",
       "2071  891689557279858688  https://pbs.twimg.com/media/DF_q7IAWsAEuuN8.jpg   \n",
       "2072  891815181378084864  https://pbs.twimg.com/media/DGBdLU1WsAANxJ9.jpg   \n",
       "2073  892177421306343426  https://pbs.twimg.com/media/DGGmoV4XsAAUL6n.jpg   \n",
       "2074  892420643555336193  https://pbs.twimg.com/media/DGKD1-bXoAAIAUK.jpg   \n",
       "\n",
       "      img_num                      p1   p1_conf  p1_dog                  p2  \\\n",
       "0           1  Welsh_springer_spaniel  0.465074    True              collie   \n",
       "1           1                 redbone  0.506826    True  miniature_pinscher   \n",
       "2           1         German_shepherd  0.596461    True            malinois   \n",
       "3           1     Rhodesian_ridgeback  0.408143    True             redbone   \n",
       "4           1      miniature_pinscher  0.560311    True          Rottweiler   \n",
       "...       ...                     ...       ...     ...                 ...   \n",
       "2070        2                  basset  0.555712    True    English_springer   \n",
       "2071        1             paper_towel  0.170278   False  Labrador_retriever   \n",
       "2072        1               Chihuahua  0.716012    True            malamute   \n",
       "2073        1               Chihuahua  0.323581    True            Pekinese   \n",
       "2074        1                  orange  0.097049   False               bagel   \n",
       "\n",
       "       p2_conf  p2_dog                           p3   p3_conf  p3_dog  \n",
       "0     0.156665    True            Shetland_sheepdog  0.061428    True  \n",
       "1     0.074192    True          Rhodesian_ridgeback  0.072010    True  \n",
       "2     0.138584    True                   bloodhound  0.116197    True  \n",
       "3     0.360687    True           miniature_pinscher  0.222752    True  \n",
       "4     0.243682    True                     Doberman  0.154629    True  \n",
       "...        ...     ...                          ...       ...     ...  \n",
       "2070  0.225770    True  German_short-haired_pointer  0.175219    True  \n",
       "2071  0.168086    True                      spatula  0.040836   False  \n",
       "2072  0.078253    True                       kelpie  0.031379    True  \n",
       "2073  0.090647    True                     papillon  0.068957    True  \n",
       "2074  0.085851   False                       banana  0.076110   False  \n",
       "\n",
       "[2075 rows x 12 columns]>"
      ]
     },
     "execution_count": 12,
     "metadata": {},
     "output_type": "execute_result"
    }
   ],
   "source": [
    "# We have 2075 rows and 12 columns\n",
    "\n",
    "#To details of the cell in this dataframe.\n",
    "\n",
    "df_image.info"
   ]
  },
  {
   "cell_type": "markdown",
   "id": "bfacd5ad",
   "metadata": {},
   "source": [
    " #### To check for null values.\n"
   ]
  },
  {
   "cell_type": "code",
   "execution_count": 13,
   "id": "06489f53",
   "metadata": {},
   "outputs": [
    {
     "data": {
      "text/plain": [
       "tweet_id    0\n",
       "jpg_url     0\n",
       "img_num     0\n",
       "p1          0\n",
       "p1_conf     0\n",
       "p1_dog      0\n",
       "p2          0\n",
       "p2_conf     0\n",
       "p2_dog      0\n",
       "p3          0\n",
       "p3_conf     0\n",
       "p3_dog      0\n",
       "dtype: int64"
      ]
     },
     "execution_count": 13,
     "metadata": {},
     "output_type": "execute_result"
    }
   ],
   "source": [
    "df_image.isnull().sum()\n",
    "\n",
    "#There are no null values in the image prediction tsv."
   ]
  },
  {
   "cell_type": "markdown",
   "id": "4b0439fa",
   "metadata": {},
   "source": [
    "#### To check for duplicate"
   ]
  },
  {
   "cell_type": "code",
   "execution_count": 14,
   "id": "3909a152",
   "metadata": {},
   "outputs": [
    {
     "data": {
      "text/plain": [
       "0"
      ]
     },
     "execution_count": 14,
     "metadata": {},
     "output_type": "execute_result"
    }
   ],
   "source": [
    "df_image.duplicated().sum()\n",
    "\n",
    "#Output below shows that there are no duplicates within this dataframe."
   ]
  },
  {
   "cell_type": "markdown",
   "id": "6b1db3a1",
   "metadata": {},
   "source": [
    "### To Assess and Display Twitter Archives Data"
   ]
  },
  {
   "cell_type": "code",
   "execution_count": 15,
   "id": "b6456727",
   "metadata": {
    "scrolled": false
   },
   "outputs": [
    {
     "data": {
      "text/html": [
       "<div>\n",
       "<style scoped>\n",
       "    .dataframe tbody tr th:only-of-type {\n",
       "        vertical-align: middle;\n",
       "    }\n",
       "\n",
       "    .dataframe tbody tr th {\n",
       "        vertical-align: top;\n",
       "    }\n",
       "\n",
       "    .dataframe thead th {\n",
       "        text-align: right;\n",
       "    }\n",
       "</style>\n",
       "<table border=\"1\" class=\"dataframe\">\n",
       "  <thead>\n",
       "    <tr style=\"text-align: right;\">\n",
       "      <th></th>\n",
       "      <th>tweet_id</th>\n",
       "      <th>in_reply_to_status_id</th>\n",
       "      <th>in_reply_to_user_id</th>\n",
       "      <th>timestamp</th>\n",
       "      <th>source</th>\n",
       "      <th>text</th>\n",
       "      <th>retweeted_status_id</th>\n",
       "      <th>retweeted_status_user_id</th>\n",
       "      <th>retweeted_status_timestamp</th>\n",
       "      <th>expanded_urls</th>\n",
       "      <th>rating_numerator</th>\n",
       "      <th>rating_denominator</th>\n",
       "      <th>name</th>\n",
       "      <th>doggo</th>\n",
       "      <th>floofer</th>\n",
       "      <th>pupper</th>\n",
       "      <th>puppo</th>\n",
       "    </tr>\n",
       "  </thead>\n",
       "  <tbody>\n",
       "    <tr>\n",
       "      <th>0</th>\n",
       "      <td>892420643555336193</td>\n",
       "      <td>NaN</td>\n",
       "      <td>NaN</td>\n",
       "      <td>2017-08-01 16:23:56 +0000</td>\n",
       "      <td>&lt;a href=\"http://twitter.com/download/iphone\" r...</td>\n",
       "      <td>This is Phineas. He's a mystical boy. Only eve...</td>\n",
       "      <td>NaN</td>\n",
       "      <td>NaN</td>\n",
       "      <td>NaN</td>\n",
       "      <td>https://twitter.com/dog_rates/status/892420643...</td>\n",
       "      <td>13</td>\n",
       "      <td>10</td>\n",
       "      <td>Phineas</td>\n",
       "      <td>None</td>\n",
       "      <td>None</td>\n",
       "      <td>None</td>\n",
       "      <td>None</td>\n",
       "    </tr>\n",
       "    <tr>\n",
       "      <th>1</th>\n",
       "      <td>892177421306343426</td>\n",
       "      <td>NaN</td>\n",
       "      <td>NaN</td>\n",
       "      <td>2017-08-01 00:17:27 +0000</td>\n",
       "      <td>&lt;a href=\"http://twitter.com/download/iphone\" r...</td>\n",
       "      <td>This is Tilly. She's just checking pup on you....</td>\n",
       "      <td>NaN</td>\n",
       "      <td>NaN</td>\n",
       "      <td>NaN</td>\n",
       "      <td>https://twitter.com/dog_rates/status/892177421...</td>\n",
       "      <td>13</td>\n",
       "      <td>10</td>\n",
       "      <td>Tilly</td>\n",
       "      <td>None</td>\n",
       "      <td>None</td>\n",
       "      <td>None</td>\n",
       "      <td>None</td>\n",
       "    </tr>\n",
       "    <tr>\n",
       "      <th>2</th>\n",
       "      <td>891815181378084864</td>\n",
       "      <td>NaN</td>\n",
       "      <td>NaN</td>\n",
       "      <td>2017-07-31 00:18:03 +0000</td>\n",
       "      <td>&lt;a href=\"http://twitter.com/download/iphone\" r...</td>\n",
       "      <td>This is Archie. He is a rare Norwegian Pouncin...</td>\n",
       "      <td>NaN</td>\n",
       "      <td>NaN</td>\n",
       "      <td>NaN</td>\n",
       "      <td>https://twitter.com/dog_rates/status/891815181...</td>\n",
       "      <td>12</td>\n",
       "      <td>10</td>\n",
       "      <td>Archie</td>\n",
       "      <td>None</td>\n",
       "      <td>None</td>\n",
       "      <td>None</td>\n",
       "      <td>None</td>\n",
       "    </tr>\n",
       "    <tr>\n",
       "      <th>3</th>\n",
       "      <td>891689557279858688</td>\n",
       "      <td>NaN</td>\n",
       "      <td>NaN</td>\n",
       "      <td>2017-07-30 15:58:51 +0000</td>\n",
       "      <td>&lt;a href=\"http://twitter.com/download/iphone\" r...</td>\n",
       "      <td>This is Darla. She commenced a snooze mid meal...</td>\n",
       "      <td>NaN</td>\n",
       "      <td>NaN</td>\n",
       "      <td>NaN</td>\n",
       "      <td>https://twitter.com/dog_rates/status/891689557...</td>\n",
       "      <td>13</td>\n",
       "      <td>10</td>\n",
       "      <td>Darla</td>\n",
       "      <td>None</td>\n",
       "      <td>None</td>\n",
       "      <td>None</td>\n",
       "      <td>None</td>\n",
       "    </tr>\n",
       "    <tr>\n",
       "      <th>4</th>\n",
       "      <td>891327558926688256</td>\n",
       "      <td>NaN</td>\n",
       "      <td>NaN</td>\n",
       "      <td>2017-07-29 16:00:24 +0000</td>\n",
       "      <td>&lt;a href=\"http://twitter.com/download/iphone\" r...</td>\n",
       "      <td>This is Franklin. He would like you to stop ca...</td>\n",
       "      <td>NaN</td>\n",
       "      <td>NaN</td>\n",
       "      <td>NaN</td>\n",
       "      <td>https://twitter.com/dog_rates/status/891327558...</td>\n",
       "      <td>12</td>\n",
       "      <td>10</td>\n",
       "      <td>Franklin</td>\n",
       "      <td>None</td>\n",
       "      <td>None</td>\n",
       "      <td>None</td>\n",
       "      <td>None</td>\n",
       "    </tr>\n",
       "  </tbody>\n",
       "</table>\n",
       "</div>"
      ],
      "text/plain": [
       "             tweet_id  in_reply_to_status_id  in_reply_to_user_id  \\\n",
       "0  892420643555336193                    NaN                  NaN   \n",
       "1  892177421306343426                    NaN                  NaN   \n",
       "2  891815181378084864                    NaN                  NaN   \n",
       "3  891689557279858688                    NaN                  NaN   \n",
       "4  891327558926688256                    NaN                  NaN   \n",
       "\n",
       "                   timestamp  \\\n",
       "0  2017-08-01 16:23:56 +0000   \n",
       "1  2017-08-01 00:17:27 +0000   \n",
       "2  2017-07-31 00:18:03 +0000   \n",
       "3  2017-07-30 15:58:51 +0000   \n",
       "4  2017-07-29 16:00:24 +0000   \n",
       "\n",
       "                                              source  \\\n",
       "0  <a href=\"http://twitter.com/download/iphone\" r...   \n",
       "1  <a href=\"http://twitter.com/download/iphone\" r...   \n",
       "2  <a href=\"http://twitter.com/download/iphone\" r...   \n",
       "3  <a href=\"http://twitter.com/download/iphone\" r...   \n",
       "4  <a href=\"http://twitter.com/download/iphone\" r...   \n",
       "\n",
       "                                                text  retweeted_status_id  \\\n",
       "0  This is Phineas. He's a mystical boy. Only eve...                  NaN   \n",
       "1  This is Tilly. She's just checking pup on you....                  NaN   \n",
       "2  This is Archie. He is a rare Norwegian Pouncin...                  NaN   \n",
       "3  This is Darla. She commenced a snooze mid meal...                  NaN   \n",
       "4  This is Franklin. He would like you to stop ca...                  NaN   \n",
       "\n",
       "   retweeted_status_user_id retweeted_status_timestamp  \\\n",
       "0                       NaN                        NaN   \n",
       "1                       NaN                        NaN   \n",
       "2                       NaN                        NaN   \n",
       "3                       NaN                        NaN   \n",
       "4                       NaN                        NaN   \n",
       "\n",
       "                                       expanded_urls  rating_numerator  \\\n",
       "0  https://twitter.com/dog_rates/status/892420643...                13   \n",
       "1  https://twitter.com/dog_rates/status/892177421...                13   \n",
       "2  https://twitter.com/dog_rates/status/891815181...                12   \n",
       "3  https://twitter.com/dog_rates/status/891689557...                13   \n",
       "4  https://twitter.com/dog_rates/status/891327558...                12   \n",
       "\n",
       "   rating_denominator      name doggo floofer pupper puppo  \n",
       "0                  10   Phineas  None    None   None  None  \n",
       "1                  10     Tilly  None    None   None  None  \n",
       "2                  10    Archie  None    None   None  None  \n",
       "3                  10     Darla  None    None   None  None  \n",
       "4                  10  Franklin  None    None   None  None  "
      ]
     },
     "execution_count": 15,
     "metadata": {},
     "output_type": "execute_result"
    }
   ],
   "source": [
    "df.head(5)\n",
    "\n",
    "#To give a visual assessment of the data frame while in jupyter."
   ]
  },
  {
   "cell_type": "code",
   "execution_count": 16,
   "id": "6960f8ee",
   "metadata": {},
   "outputs": [
    {
     "data": {
      "text/plain": [
       "<bound method DataFrame.info of                 tweet_id  in_reply_to_status_id  in_reply_to_user_id  \\\n",
       "0     892420643555336193                    NaN                  NaN   \n",
       "1     892177421306343426                    NaN                  NaN   \n",
       "2     891815181378084864                    NaN                  NaN   \n",
       "3     891689557279858688                    NaN                  NaN   \n",
       "4     891327558926688256                    NaN                  NaN   \n",
       "...                  ...                    ...                  ...   \n",
       "2351  666049248165822465                    NaN                  NaN   \n",
       "2352  666044226329800704                    NaN                  NaN   \n",
       "2353  666033412701032449                    NaN                  NaN   \n",
       "2354  666029285002620928                    NaN                  NaN   \n",
       "2355  666020888022790149                    NaN                  NaN   \n",
       "\n",
       "                      timestamp  \\\n",
       "0     2017-08-01 16:23:56 +0000   \n",
       "1     2017-08-01 00:17:27 +0000   \n",
       "2     2017-07-31 00:18:03 +0000   \n",
       "3     2017-07-30 15:58:51 +0000   \n",
       "4     2017-07-29 16:00:24 +0000   \n",
       "...                         ...   \n",
       "2351  2015-11-16 00:24:50 +0000   \n",
       "2352  2015-11-16 00:04:52 +0000   \n",
       "2353  2015-11-15 23:21:54 +0000   \n",
       "2354  2015-11-15 23:05:30 +0000   \n",
       "2355  2015-11-15 22:32:08 +0000   \n",
       "\n",
       "                                                 source  \\\n",
       "0     <a href=\"http://twitter.com/download/iphone\" r...   \n",
       "1     <a href=\"http://twitter.com/download/iphone\" r...   \n",
       "2     <a href=\"http://twitter.com/download/iphone\" r...   \n",
       "3     <a href=\"http://twitter.com/download/iphone\" r...   \n",
       "4     <a href=\"http://twitter.com/download/iphone\" r...   \n",
       "...                                                 ...   \n",
       "2351  <a href=\"http://twitter.com/download/iphone\" r...   \n",
       "2352  <a href=\"http://twitter.com/download/iphone\" r...   \n",
       "2353  <a href=\"http://twitter.com/download/iphone\" r...   \n",
       "2354  <a href=\"http://twitter.com/download/iphone\" r...   \n",
       "2355  <a href=\"http://twitter.com/download/iphone\" r...   \n",
       "\n",
       "                                                   text  retweeted_status_id  \\\n",
       "0     This is Phineas. He's a mystical boy. Only eve...                  NaN   \n",
       "1     This is Tilly. She's just checking pup on you....                  NaN   \n",
       "2     This is Archie. He is a rare Norwegian Pouncin...                  NaN   \n",
       "3     This is Darla. She commenced a snooze mid meal...                  NaN   \n",
       "4     This is Franklin. He would like you to stop ca...                  NaN   \n",
       "...                                                 ...                  ...   \n",
       "2351  Here we have a 1949 1st generation vulpix. Enj...                  NaN   \n",
       "2352  This is a purebred Piers Morgan. Loves to Netf...                  NaN   \n",
       "2353  Here is a very happy pup. Big fan of well-main...                  NaN   \n",
       "2354  This is a western brown Mitsubishi terrier. Up...                  NaN   \n",
       "2355  Here we have a Japanese Irish Setter. Lost eye...                  NaN   \n",
       "\n",
       "      retweeted_status_user_id retweeted_status_timestamp  \\\n",
       "0                          NaN                        NaN   \n",
       "1                          NaN                        NaN   \n",
       "2                          NaN                        NaN   \n",
       "3                          NaN                        NaN   \n",
       "4                          NaN                        NaN   \n",
       "...                        ...                        ...   \n",
       "2351                       NaN                        NaN   \n",
       "2352                       NaN                        NaN   \n",
       "2353                       NaN                        NaN   \n",
       "2354                       NaN                        NaN   \n",
       "2355                       NaN                        NaN   \n",
       "\n",
       "                                          expanded_urls  rating_numerator  \\\n",
       "0     https://twitter.com/dog_rates/status/892420643...                13   \n",
       "1     https://twitter.com/dog_rates/status/892177421...                13   \n",
       "2     https://twitter.com/dog_rates/status/891815181...                12   \n",
       "3     https://twitter.com/dog_rates/status/891689557...                13   \n",
       "4     https://twitter.com/dog_rates/status/891327558...                12   \n",
       "...                                                 ...               ...   \n",
       "2351  https://twitter.com/dog_rates/status/666049248...                 5   \n",
       "2352  https://twitter.com/dog_rates/status/666044226...                 6   \n",
       "2353  https://twitter.com/dog_rates/status/666033412...                 9   \n",
       "2354  https://twitter.com/dog_rates/status/666029285...                 7   \n",
       "2355  https://twitter.com/dog_rates/status/666020888...                 8   \n",
       "\n",
       "      rating_denominator      name doggo floofer pupper puppo  \n",
       "0                     10   Phineas  None    None   None  None  \n",
       "1                     10     Tilly  None    None   None  None  \n",
       "2                     10    Archie  None    None   None  None  \n",
       "3                     10     Darla  None    None   None  None  \n",
       "4                     10  Franklin  None    None   None  None  \n",
       "...                  ...       ...   ...     ...    ...   ...  \n",
       "2351                  10      None  None    None   None  None  \n",
       "2352                  10         a  None    None   None  None  \n",
       "2353                  10         a  None    None   None  None  \n",
       "2354                  10         a  None    None   None  None  \n",
       "2355                  10      None  None    None   None  None  \n",
       "\n",
       "[2356 rows x 17 columns]>"
      ]
     },
     "execution_count": 16,
     "metadata": {},
     "output_type": "execute_result"
    }
   ],
   "source": [
    "#To observe the data,\n",
    "\n",
    "#Info helps with a conside summary of the daa\n",
    "df.info"
   ]
  },
  {
   "cell_type": "code",
   "execution_count": 17,
   "id": "756a0545",
   "metadata": {},
   "outputs": [],
   "source": [
    "#The output above revealed lot some data qulaity issue that would be ientified in my observation later"
   ]
  },
  {
   "cell_type": "code",
   "execution_count": 18,
   "id": "41d7214c",
   "metadata": {},
   "outputs": [
    {
     "data": {
      "text/plain": [
       "tweet_id                         0\n",
       "in_reply_to_status_id         2278\n",
       "in_reply_to_user_id           2278\n",
       "timestamp                        0\n",
       "source                           0\n",
       "text                             0\n",
       "retweeted_status_id           2175\n",
       "retweeted_status_user_id      2175\n",
       "retweeted_status_timestamp    2175\n",
       "expanded_urls                   59\n",
       "rating_numerator                 0\n",
       "rating_denominator               0\n",
       "name                             0\n",
       "doggo                            0\n",
       "floofer                          0\n",
       "pupper                           0\n",
       "puppo                            0\n",
       "dtype: int64"
      ]
     },
     "execution_count": 18,
     "metadata": {},
     "output_type": "execute_result"
    }
   ],
   "source": [
    "df.isnull().sum()\n",
    "\n",
    "#We can observe that they are some null values in the twiiter rchive dataframe"
   ]
  },
  {
   "cell_type": "code",
   "execution_count": 19,
   "id": "69c7bda0",
   "metadata": {},
   "outputs": [
    {
     "data": {
      "text/plain": [
       "0"
      ]
     },
     "execution_count": 19,
     "metadata": {},
     "output_type": "execute_result"
    }
   ],
   "source": [
    "# To verify if the twitter dataframe has some duplicate value;\n",
    "\n",
    "df.duplicated().sum()"
   ]
  },
  {
   "cell_type": "markdown",
   "id": "cb826972",
   "metadata": {},
   "source": [
    "### To Access and Display our JSON_File"
   ]
  },
  {
   "cell_type": "code",
   "execution_count": 20,
   "id": "9b59b6db",
   "metadata": {},
   "outputs": [
    {
     "data": {
      "text/html": [
       "<div>\n",
       "<style scoped>\n",
       "    .dataframe tbody tr th:only-of-type {\n",
       "        vertical-align: middle;\n",
       "    }\n",
       "\n",
       "    .dataframe tbody tr th {\n",
       "        vertical-align: top;\n",
       "    }\n",
       "\n",
       "    .dataframe thead th {\n",
       "        text-align: right;\n",
       "    }\n",
       "</style>\n",
       "<table border=\"1\" class=\"dataframe\">\n",
       "  <thead>\n",
       "    <tr style=\"text-align: right;\">\n",
       "      <th></th>\n",
       "      <th>tweet_id</th>\n",
       "      <th>retweet_count</th>\n",
       "      <th>favorite_count</th>\n",
       "    </tr>\n",
       "  </thead>\n",
       "  <tbody>\n",
       "    <tr>\n",
       "      <th>0</th>\n",
       "      <td>892420643555336193</td>\n",
       "      <td>6934</td>\n",
       "      <td>33219</td>\n",
       "    </tr>\n",
       "    <tr>\n",
       "      <th>1</th>\n",
       "      <td>892177421306343426</td>\n",
       "      <td>5239</td>\n",
       "      <td>28755</td>\n",
       "    </tr>\n",
       "    <tr>\n",
       "      <th>2</th>\n",
       "      <td>891815181378084864</td>\n",
       "      <td>3452</td>\n",
       "      <td>21624</td>\n",
       "    </tr>\n",
       "    <tr>\n",
       "      <th>3</th>\n",
       "      <td>891689557279858688</td>\n",
       "      <td>7147</td>\n",
       "      <td>36229</td>\n",
       "    </tr>\n",
       "    <tr>\n",
       "      <th>4</th>\n",
       "      <td>891327558926688256</td>\n",
       "      <td>7677</td>\n",
       "      <td>34659</td>\n",
       "    </tr>\n",
       "    <tr>\n",
       "      <th>...</th>\n",
       "      <td>...</td>\n",
       "      <td>...</td>\n",
       "      <td>...</td>\n",
       "    </tr>\n",
       "    <tr>\n",
       "      <th>2320</th>\n",
       "      <td>666049248165822465</td>\n",
       "      <td>36</td>\n",
       "      <td>88</td>\n",
       "    </tr>\n",
       "    <tr>\n",
       "      <th>2321</th>\n",
       "      <td>666044226329800704</td>\n",
       "      <td>114</td>\n",
       "      <td>246</td>\n",
       "    </tr>\n",
       "    <tr>\n",
       "      <th>2322</th>\n",
       "      <td>666033412701032449</td>\n",
       "      <td>36</td>\n",
       "      <td>99</td>\n",
       "    </tr>\n",
       "    <tr>\n",
       "      <th>2323</th>\n",
       "      <td>666029285002620928</td>\n",
       "      <td>39</td>\n",
       "      <td>111</td>\n",
       "    </tr>\n",
       "    <tr>\n",
       "      <th>2324</th>\n",
       "      <td>666020888022790149</td>\n",
       "      <td>418</td>\n",
       "      <td>2253</td>\n",
       "    </tr>\n",
       "  </tbody>\n",
       "</table>\n",
       "<p>2325 rows × 3 columns</p>\n",
       "</div>"
      ],
      "text/plain": [
       "                tweet_id  retweet_count  favorite_count\n",
       "0     892420643555336193           6934           33219\n",
       "1     892177421306343426           5239           28755\n",
       "2     891815181378084864           3452           21624\n",
       "3     891689557279858688           7147           36229\n",
       "4     891327558926688256           7677           34659\n",
       "...                  ...            ...             ...\n",
       "2320  666049248165822465             36              88\n",
       "2321  666044226329800704            114             246\n",
       "2322  666033412701032449             36              99\n",
       "2323  666029285002620928             39             111\n",
       "2324  666020888022790149            418            2253\n",
       "\n",
       "[2325 rows x 3 columns]"
      ]
     },
     "execution_count": 20,
     "metadata": {},
     "output_type": "execute_result"
    }
   ],
   "source": [
    "#To display the headers\n",
    "tweet_data"
   ]
  },
  {
   "cell_type": "code",
   "execution_count": 21,
   "id": "84712645",
   "metadata": {},
   "outputs": [
    {
     "name": "stdout",
     "output_type": "stream",
     "text": [
      "<class 'pandas.core.frame.DataFrame'>\n",
      "RangeIndex: 2325 entries, 0 to 2324\n",
      "Data columns (total 3 columns):\n",
      " #   Column          Non-Null Count  Dtype\n",
      "---  ------          --------------  -----\n",
      " 0   tweet_id        2325 non-null   int64\n",
      " 1   retweet_count   2325 non-null   int64\n",
      " 2   favorite_count  2325 non-null   int64\n",
      "dtypes: int64(3)\n",
      "memory usage: 54.6 KB\n"
     ]
    }
   ],
   "source": [
    "#Conscise summary of the file\n",
    "tweet_data.info()"
   ]
  },
  {
   "cell_type": "code",
   "execution_count": 22,
   "id": "29c223f1",
   "metadata": {},
   "outputs": [
    {
     "data": {
      "text/plain": [
       "0"
      ]
     },
     "execution_count": 22,
     "metadata": {},
     "output_type": "execute_result"
    }
   ],
   "source": [
    "#Checking for duplicate\n",
    "\n",
    "tweet_data.duplicated().sum()"
   ]
  },
  {
   "cell_type": "markdown",
   "id": "9164f525",
   "metadata": {},
   "source": [
    "### Listing Out All observation with regards Data Quality and Data Tidiness"
   ]
  },
  {
   "cell_type": "markdown",
   "id": "ae33b2cc",
   "metadata": {},
   "source": [
    "### On Tidiness"
   ]
  },
  {
   "cell_type": "markdown",
   "id": "a7d82390",
   "metadata": {},
   "source": [
    "1.In Df_new, Twitter Archive Enhanced CSV,  Columns doggo, flooder, pupper and puppo can be merged into one column.\n",
    "\n",
    "2.The three datasets can be merged into one."
   ]
  },
  {
   "cell_type": "markdown",
   "id": "c6e70390",
   "metadata": {},
   "source": [
    "####  On Quality"
   ]
  },
  {
   "cell_type": "markdown",
   "id": "b06faa8f",
   "metadata": {},
   "source": [
    "##### 1. Unnecessay Retweet Rows& Columns such as retweeted_status_id\tretweeted_status_user_id\tretweeted_status_timestamp\n",
    "\n",
    "##### 2.Unnecessary in reply to rows&columns such as in_reply_to_status_id\tin_reply_to_user_id\n",
    "##### The two above are in line with the project criteria of original ratings only.\n",
    "\n",
    "##### 3. In the names colmuns, some dogs without names, but given names of \"a\" or \"an\" instead of None\n",
    "\n",
    "##### 4. Wrong Datatype om Tweet Timestamp.\n",
    "\n",
    "##### 5 Some rating denominators are more than 10. Project says numerator can be more than 10 due to its unique nature,\n",
    "##### However it does  not qualify same for the denominator.\n",
    "\n",
    "##### 6.Many predictions contains 3 false in df_image, which means those are useless prediction data.\n",
    "\n",
    "##### 7.  Some unnecessary columns such as expanded_urls and img_num\n",
    "\n",
    "##### 8.The datatype of the \"tweet_id\" column is integer and should be object."
   ]
  },
  {
   "cell_type": "markdown",
   "id": "b49b4f26",
   "metadata": {},
   "source": [
    "### Cleaning the Data"
   ]
  },
  {
   "cell_type": "code",
   "execution_count": 23,
   "id": "10397239",
   "metadata": {},
   "outputs": [],
   "source": [
    "#To create a copy of all files\n",
    "\n",
    "df_new = df.copy()\n",
    "df_image_new = df_image.copy()\n",
    "tweet_data_new = tweet_data.copy()"
   ]
  },
  {
   "cell_type": "markdown",
   "id": "074f3a02",
   "metadata": {},
   "source": [
    "### On Tidiness"
   ]
  },
  {
   "cell_type": "code",
   "execution_count": 24,
   "id": "6bf0cee6",
   "metadata": {},
   "outputs": [
    {
     "data": {
      "text/html": [
       "<div>\n",
       "<style scoped>\n",
       "    .dataframe tbody tr th:only-of-type {\n",
       "        vertical-align: middle;\n",
       "    }\n",
       "\n",
       "    .dataframe tbody tr th {\n",
       "        vertical-align: top;\n",
       "    }\n",
       "\n",
       "    .dataframe thead th {\n",
       "        text-align: right;\n",
       "    }\n",
       "</style>\n",
       "<table border=\"1\" class=\"dataframe\">\n",
       "  <thead>\n",
       "    <tr style=\"text-align: right;\">\n",
       "      <th></th>\n",
       "      <th>tweet_id</th>\n",
       "      <th>in_reply_to_status_id</th>\n",
       "      <th>in_reply_to_user_id</th>\n",
       "      <th>timestamp</th>\n",
       "      <th>source</th>\n",
       "      <th>text</th>\n",
       "      <th>retweeted_status_id</th>\n",
       "      <th>retweeted_status_user_id</th>\n",
       "      <th>retweeted_status_timestamp</th>\n",
       "      <th>expanded_urls</th>\n",
       "      <th>rating_numerator</th>\n",
       "      <th>rating_denominator</th>\n",
       "      <th>name</th>\n",
       "      <th>doggo</th>\n",
       "      <th>floofer</th>\n",
       "      <th>pupper</th>\n",
       "      <th>puppo</th>\n",
       "      <th>stage</th>\n",
       "    </tr>\n",
       "  </thead>\n",
       "  <tbody>\n",
       "    <tr>\n",
       "      <th>0</th>\n",
       "      <td>892420643555336193</td>\n",
       "      <td>NaN</td>\n",
       "      <td>NaN</td>\n",
       "      <td>2017-08-01 16:23:56 +0000</td>\n",
       "      <td>&lt;a href=\"http://twitter.com/download/iphone\" r...</td>\n",
       "      <td>This is Phineas. He's a mystical boy. Only eve...</td>\n",
       "      <td>NaN</td>\n",
       "      <td>NaN</td>\n",
       "      <td>NaN</td>\n",
       "      <td>https://twitter.com/dog_rates/status/892420643...</td>\n",
       "      <td>13</td>\n",
       "      <td>10</td>\n",
       "      <td>Phineas</td>\n",
       "      <td>None</td>\n",
       "      <td>None</td>\n",
       "      <td>None</td>\n",
       "      <td>None</td>\n",
       "      <td>None</td>\n",
       "    </tr>\n",
       "    <tr>\n",
       "      <th>1</th>\n",
       "      <td>892177421306343426</td>\n",
       "      <td>NaN</td>\n",
       "      <td>NaN</td>\n",
       "      <td>2017-08-01 00:17:27 +0000</td>\n",
       "      <td>&lt;a href=\"http://twitter.com/download/iphone\" r...</td>\n",
       "      <td>This is Tilly. She's just checking pup on you....</td>\n",
       "      <td>NaN</td>\n",
       "      <td>NaN</td>\n",
       "      <td>NaN</td>\n",
       "      <td>https://twitter.com/dog_rates/status/892177421...</td>\n",
       "      <td>13</td>\n",
       "      <td>10</td>\n",
       "      <td>Tilly</td>\n",
       "      <td>None</td>\n",
       "      <td>None</td>\n",
       "      <td>None</td>\n",
       "      <td>None</td>\n",
       "      <td>None</td>\n",
       "    </tr>\n",
       "  </tbody>\n",
       "</table>\n",
       "</div>"
      ],
      "text/plain": [
       "             tweet_id  in_reply_to_status_id  in_reply_to_user_id  \\\n",
       "0  892420643555336193                    NaN                  NaN   \n",
       "1  892177421306343426                    NaN                  NaN   \n",
       "\n",
       "                   timestamp  \\\n",
       "0  2017-08-01 16:23:56 +0000   \n",
       "1  2017-08-01 00:17:27 +0000   \n",
       "\n",
       "                                              source  \\\n",
       "0  <a href=\"http://twitter.com/download/iphone\" r...   \n",
       "1  <a href=\"http://twitter.com/download/iphone\" r...   \n",
       "\n",
       "                                                text  retweeted_status_id  \\\n",
       "0  This is Phineas. He's a mystical boy. Only eve...                  NaN   \n",
       "1  This is Tilly. She's just checking pup on you....                  NaN   \n",
       "\n",
       "   retweeted_status_user_id retweeted_status_timestamp  \\\n",
       "0                       NaN                        NaN   \n",
       "1                       NaN                        NaN   \n",
       "\n",
       "                                       expanded_urls  rating_numerator  \\\n",
       "0  https://twitter.com/dog_rates/status/892420643...                13   \n",
       "1  https://twitter.com/dog_rates/status/892177421...                13   \n",
       "\n",
       "   rating_denominator     name doggo floofer pupper puppo stage  \n",
       "0                  10  Phineas  None    None   None  None  None  \n",
       "1                  10    Tilly  None    None   None  None  None  "
      ]
     },
     "execution_count": 24,
     "metadata": {},
     "output_type": "execute_result"
    }
   ],
   "source": [
    "#In twitter_archive, Columns doggo, flooder, pupper and puppo can be merged into one column.\n",
    "#To verify the code.\n",
    "df_new['stage']=None\n",
    "df_new['stage']= df_new[['doggo', 'floofer', 'pupper', 'puppo']].max(axis=1)\n",
    "df_new.head(2)"
   ]
  },
  {
   "cell_type": "code",
   "execution_count": 25,
   "id": "bf962fda",
   "metadata": {},
   "outputs": [],
   "source": [
    "# Convert the column stage data type into 'category' type\n",
    "\n",
    "df_new.stage = df_new.stage.astype('category')"
   ]
  },
  {
   "cell_type": "code",
   "execution_count": 26,
   "id": "648a0694",
   "metadata": {},
   "outputs": [],
   "source": [
    "# Delete doggo, floofer, pupper and puppo columns\n",
    "\n",
    "df_new.drop(['doggo', 'floofer', 'pupper', 'puppo'], axis=1, inplace=True)"
   ]
  },
  {
   "cell_type": "code",
   "execution_count": 27,
   "id": "42ccbcba",
   "metadata": {},
   "outputs": [
    {
     "data": {
      "text/html": [
       "<div>\n",
       "<style scoped>\n",
       "    .dataframe tbody tr th:only-of-type {\n",
       "        vertical-align: middle;\n",
       "    }\n",
       "\n",
       "    .dataframe tbody tr th {\n",
       "        vertical-align: top;\n",
       "    }\n",
       "\n",
       "    .dataframe thead th {\n",
       "        text-align: right;\n",
       "    }\n",
       "</style>\n",
       "<table border=\"1\" class=\"dataframe\">\n",
       "  <thead>\n",
       "    <tr style=\"text-align: right;\">\n",
       "      <th></th>\n",
       "      <th>tweet_id</th>\n",
       "      <th>in_reply_to_status_id</th>\n",
       "      <th>in_reply_to_user_id</th>\n",
       "      <th>timestamp</th>\n",
       "      <th>source</th>\n",
       "      <th>text</th>\n",
       "      <th>retweeted_status_id</th>\n",
       "      <th>retweeted_status_user_id</th>\n",
       "      <th>retweeted_status_timestamp</th>\n",
       "      <th>expanded_urls</th>\n",
       "      <th>rating_numerator</th>\n",
       "      <th>rating_denominator</th>\n",
       "      <th>name</th>\n",
       "      <th>stage</th>\n",
       "    </tr>\n",
       "  </thead>\n",
       "  <tbody>\n",
       "    <tr>\n",
       "      <th>0</th>\n",
       "      <td>892420643555336193</td>\n",
       "      <td>NaN</td>\n",
       "      <td>NaN</td>\n",
       "      <td>2017-08-01 16:23:56 +0000</td>\n",
       "      <td>&lt;a href=\"http://twitter.com/download/iphone\" r...</td>\n",
       "      <td>This is Phineas. He's a mystical boy. Only eve...</td>\n",
       "      <td>NaN</td>\n",
       "      <td>NaN</td>\n",
       "      <td>NaN</td>\n",
       "      <td>https://twitter.com/dog_rates/status/892420643...</td>\n",
       "      <td>13</td>\n",
       "      <td>10</td>\n",
       "      <td>Phineas</td>\n",
       "      <td>None</td>\n",
       "    </tr>\n",
       "    <tr>\n",
       "      <th>1</th>\n",
       "      <td>892177421306343426</td>\n",
       "      <td>NaN</td>\n",
       "      <td>NaN</td>\n",
       "      <td>2017-08-01 00:17:27 +0000</td>\n",
       "      <td>&lt;a href=\"http://twitter.com/download/iphone\" r...</td>\n",
       "      <td>This is Tilly. She's just checking pup on you....</td>\n",
       "      <td>NaN</td>\n",
       "      <td>NaN</td>\n",
       "      <td>NaN</td>\n",
       "      <td>https://twitter.com/dog_rates/status/892177421...</td>\n",
       "      <td>13</td>\n",
       "      <td>10</td>\n",
       "      <td>Tilly</td>\n",
       "      <td>None</td>\n",
       "    </tr>\n",
       "  </tbody>\n",
       "</table>\n",
       "</div>"
      ],
      "text/plain": [
       "             tweet_id  in_reply_to_status_id  in_reply_to_user_id  \\\n",
       "0  892420643555336193                    NaN                  NaN   \n",
       "1  892177421306343426                    NaN                  NaN   \n",
       "\n",
       "                   timestamp  \\\n",
       "0  2017-08-01 16:23:56 +0000   \n",
       "1  2017-08-01 00:17:27 +0000   \n",
       "\n",
       "                                              source  \\\n",
       "0  <a href=\"http://twitter.com/download/iphone\" r...   \n",
       "1  <a href=\"http://twitter.com/download/iphone\" r...   \n",
       "\n",
       "                                                text  retweeted_status_id  \\\n",
       "0  This is Phineas. He's a mystical boy. Only eve...                  NaN   \n",
       "1  This is Tilly. She's just checking pup on you....                  NaN   \n",
       "\n",
       "   retweeted_status_user_id retweeted_status_timestamp  \\\n",
       "0                       NaN                        NaN   \n",
       "1                       NaN                        NaN   \n",
       "\n",
       "                                       expanded_urls  rating_numerator  \\\n",
       "0  https://twitter.com/dog_rates/status/892420643...                13   \n",
       "1  https://twitter.com/dog_rates/status/892177421...                13   \n",
       "\n",
       "   rating_denominator     name stage  \n",
       "0                  10  Phineas  None  \n",
       "1                  10    Tilly  None  "
      ]
     },
     "execution_count": 27,
     "metadata": {},
     "output_type": "execute_result"
    }
   ],
   "source": [
    "#To confirm the code above\n",
    "\n",
    "df_new.head(2)"
   ]
  },
  {
   "cell_type": "markdown",
   "id": "d4eb3bec",
   "metadata": {},
   "source": [
    "### 2.The three datasets can be merged into one."
   ]
  },
  {
   "cell_type": "code",
   "execution_count": 28,
   "id": "4dbc5cf8",
   "metadata": {},
   "outputs": [],
   "source": [
    "#To merge all files\n",
    "\n",
    "df_new=pd.merge(df_new, df_image_new, how = 'left', on = ['tweet_id'] )\n",
    "df_new = pd.merge(df_new, tweet_data, how = 'left', on = ['tweet_id'])"
   ]
  },
  {
   "cell_type": "code",
   "execution_count": 29,
   "id": "fe9cbcf4",
   "metadata": {
    "scrolled": true
   },
   "outputs": [
    {
     "name": "stdout",
     "output_type": "stream",
     "text": [
      "<class 'pandas.core.frame.DataFrame'>\n",
      "Int64Index: 2356 entries, 0 to 2355\n",
      "Data columns (total 27 columns):\n",
      " #   Column                      Non-Null Count  Dtype   \n",
      "---  ------                      --------------  -----   \n",
      " 0   tweet_id                    2356 non-null   int64   \n",
      " 1   in_reply_to_status_id       78 non-null     float64 \n",
      " 2   in_reply_to_user_id         78 non-null     float64 \n",
      " 3   timestamp                   2356 non-null   object  \n",
      " 4   source                      2356 non-null   object  \n",
      " 5   text                        2356 non-null   object  \n",
      " 6   retweeted_status_id         181 non-null    float64 \n",
      " 7   retweeted_status_user_id    181 non-null    float64 \n",
      " 8   retweeted_status_timestamp  181 non-null    object  \n",
      " 9   expanded_urls               2297 non-null   object  \n",
      " 10  rating_numerator            2356 non-null   int64   \n",
      " 11  rating_denominator          2356 non-null   int64   \n",
      " 12  name                        2356 non-null   object  \n",
      " 13  stage                       2356 non-null   category\n",
      " 14  jpg_url                     2075 non-null   object  \n",
      " 15  img_num                     2075 non-null   float64 \n",
      " 16  p1                          2075 non-null   object  \n",
      " 17  p1_conf                     2075 non-null   float64 \n",
      " 18  p1_dog                      2075 non-null   object  \n",
      " 19  p2                          2075 non-null   object  \n",
      " 20  p2_conf                     2075 non-null   float64 \n",
      " 21  p2_dog                      2075 non-null   object  \n",
      " 22  p3                          2075 non-null   object  \n",
      " 23  p3_conf                     2075 non-null   float64 \n",
      " 24  p3_dog                      2075 non-null   object  \n",
      " 25  retweet_count               2325 non-null   float64 \n",
      " 26  favorite_count              2325 non-null   float64 \n",
      "dtypes: category(1), float64(10), int64(3), object(13)\n",
      "memory usage: 499.5+ KB\n"
     ]
    }
   ],
   "source": [
    "#To verify if the merging worked\n",
    "df_new.info()"
   ]
  },
  {
   "cell_type": "code",
   "execution_count": 30,
   "id": "98a0733e",
   "metadata": {},
   "outputs": [
    {
     "data": {
      "text/plain": [
       "(2356, 27)"
      ]
     },
     "execution_count": 30,
     "metadata": {},
     "output_type": "execute_result"
    }
   ],
   "source": [
    "df_new.shape"
   ]
  },
  {
   "cell_type": "markdown",
   "id": "402f4200",
   "metadata": {},
   "source": [
    "We can see from above my code was successful."
   ]
  },
  {
   "cell_type": "markdown",
   "id": "7946edaf",
   "metadata": {},
   "source": [
    "### On Quality Issues"
   ]
  },
  {
   "cell_type": "markdown",
   "id": "c2d5815d",
   "metadata": {},
   "source": [
    "#### 1. Unnecessay Retweet Rows& Columns such as retweeted_status_id\tretweeted_status_user_id\tretweeted_status_timestamp.\n"
   ]
  },
  {
   "cell_type": "code",
   "execution_count": 31,
   "id": "65c470e9",
   "metadata": {},
   "outputs": [],
   "source": [
    "#First, I will retrieve the retwwets lines I want to delete and without NaN in retweeted_status_user_id\n",
    "retweetslines = (~df_new.retweeted_status_id.isnull())  \n"
   ]
  },
  {
   "cell_type": "code",
   "execution_count": 32,
   "id": "ff7074c6",
   "metadata": {},
   "outputs": [
    {
     "data": {
      "text/plain": [
       "181"
      ]
     },
     "execution_count": 32,
     "metadata": {},
     "output_type": "execute_result"
    }
   ],
   "source": [
    "#Check how many retweets we have\n",
    "retweetslines.sum()"
   ]
  },
  {
   "cell_type": "code",
   "execution_count": 33,
   "id": "84ea3b96",
   "metadata": {},
   "outputs": [],
   "source": [
    "#Delete Retweets\n",
    "df_new = df_new[~retweetslines]"
   ]
  },
  {
   "cell_type": "code",
   "execution_count": 34,
   "id": "de1fec77",
   "metadata": {},
   "outputs": [],
   "source": [
    "#Delete useless retweets columns\n",
    "df_new.drop(['retweeted_status_id',\n",
    "                     'retweeted_status_user_id', \n",
    "                    'retweeted_status_timestamp'], axis=1, inplace=True)"
   ]
  },
  {
   "cell_type": "markdown",
   "id": "49c70af8",
   "metadata": {},
   "source": [
    "#### Confirm"
   ]
  },
  {
   "cell_type": "code",
   "execution_count": 35,
   "id": "b2f8800c",
   "metadata": {},
   "outputs": [
    {
     "data": {
      "text/plain": [
       "(2175, 24)"
      ]
     },
     "execution_count": 35,
     "metadata": {},
     "output_type": "execute_result"
    }
   ],
   "source": [
    "#To check if it worked.\n",
    "\n",
    "\n",
    "df_new.shape"
   ]
  },
  {
   "cell_type": "markdown",
   "id": "f2675ec9",
   "metadata": {},
   "source": [
    "#### 2.Unnecessary in reply to rows&columns such as in_reply_to_status_id\tin_reply_to_user_id"
   ]
  },
  {
   "cell_type": "code",
   "execution_count": 36,
   "id": "66bd20c2",
   "metadata": {},
   "outputs": [],
   "source": [
    "#To create a list of of lines i.e \"reply\" to be deleted\n",
    "\n",
    "replys_index = list(df_new[df_new[\"in_reply_to_status_id\"].isnull()==False].index)\n",
    "\n",
    "df_new.drop(axis=0, index=replys_index, inplace=True)"
   ]
  },
  {
   "cell_type": "code",
   "execution_count": 37,
   "id": "c1e3023b",
   "metadata": {},
   "outputs": [],
   "source": [
    "df_new.drop(['in_reply_to_user_id', \n",
    "                       'in_reply_to_status_id'],\n",
    "                      axis=1,\n",
    "                      inplace=True)"
   ]
  },
  {
   "cell_type": "markdown",
   "id": "c83f6e54",
   "metadata": {},
   "source": [
    "#### Confirm"
   ]
  },
  {
   "cell_type": "code",
   "execution_count": 38,
   "id": "333da42d",
   "metadata": {},
   "outputs": [
    {
     "data": {
      "text/plain": [
       "(2097, 22)"
      ]
     },
     "execution_count": 38,
     "metadata": {},
     "output_type": "execute_result"
    }
   ],
   "source": [
    "#To check if it worked.\n",
    "\n",
    "\n",
    "df_new.shape"
   ]
  },
  {
   "cell_type": "markdown",
   "id": "fc178547",
   "metadata": {},
   "source": [
    "###  3.In the names colmuns, some dogs without names, but given names of \"a\" or \"an\" instead of None"
   ]
  },
  {
   "cell_type": "code",
   "execution_count": 39,
   "id": "e6e2c02f",
   "metadata": {},
   "outputs": [],
   "source": [
    "# To replace value a, and an, in names column with none.\n",
    "\n",
    "df_new['name'].replace({\"a\":\"none\",\"an\":\"none\"},inplace=True)"
   ]
  },
  {
   "cell_type": "markdown",
   "id": "21a7a08c",
   "metadata": {},
   "source": [
    "### 4. Wrong Datatype om Tweet Timestamp."
   ]
  },
  {
   "cell_type": "code",
   "execution_count": 40,
   "id": "959f0857",
   "metadata": {},
   "outputs": [
    {
     "name": "stdout",
     "output_type": "stream",
     "text": [
      "<class 'pandas.core.frame.DataFrame'>\n",
      "Int64Index: 2097 entries, 0 to 2355\n",
      "Data columns (total 22 columns):\n",
      " #   Column              Non-Null Count  Dtype         \n",
      "---  ------              --------------  -----         \n",
      " 0   tweet_id            2097 non-null   int64         \n",
      " 1   timestamp           2097 non-null   datetime64[ns]\n",
      " 2   source              2097 non-null   object        \n",
      " 3   text                2097 non-null   object        \n",
      " 4   expanded_urls       2094 non-null   object        \n",
      " 5   rating_numerator    2097 non-null   int64         \n",
      " 6   rating_denominator  2097 non-null   int64         \n",
      " 7   name                2097 non-null   object        \n",
      " 8   stage               2097 non-null   category      \n",
      " 9   jpg_url             1971 non-null   object        \n",
      " 10  img_num             1971 non-null   float64       \n",
      " 11  p1                  1971 non-null   object        \n",
      " 12  p1_conf             1971 non-null   float64       \n",
      " 13  p1_dog              1971 non-null   object        \n",
      " 14  p2                  1971 non-null   object        \n",
      " 15  p2_conf             1971 non-null   float64       \n",
      " 16  p2_dog              1971 non-null   object        \n",
      " 17  p3                  1971 non-null   object        \n",
      " 18  p3_conf             1971 non-null   float64       \n",
      " 19  p3_dog              1971 non-null   object        \n",
      " 20  retweet_count       2089 non-null   float64       \n",
      " 21  favorite_count      2089 non-null   float64       \n",
      "dtypes: category(1), datetime64[ns](1), float64(6), int64(3), object(11)\n",
      "memory usage: 362.7+ KB\n"
     ]
    }
   ],
   "source": [
    "#The data type for Time should be in Datatime format,\n",
    "#This is very critical to ensure\n",
    "#the timestamp column is not corrupted.\n",
    "\n",
    "#Validated in the output below.\n",
    "\n",
    "\n",
    "df_new.timestamp = df_new.timestamp.astype('datetime64')\n",
    "df_new.info()"
   ]
  },
  {
   "cell_type": "markdown",
   "id": "1fea78f4",
   "metadata": {},
   "source": [
    "### 5 Some rating denominators are more than 10. Project says numerator can be more than 10 due to its unique nature, However it does  not qualify same for the denominator."
   ]
  },
  {
   "cell_type": "code",
   "execution_count": 41,
   "id": "2ae46b76",
   "metadata": {},
   "outputs": [],
   "source": [
    "#To group the list of denominator not equal to 10.\n",
    "#To delete rows that the denominator is not equal to 10.\n",
    "\n",
    "not_ten = list(df_new.query(\"rating_denominator != 10\").index)\n",
    "df_new.drop(index=not_ten, inplace=True)"
   ]
  },
  {
   "cell_type": "code",
   "execution_count": 42,
   "id": "fa6f618e",
   "metadata": {},
   "outputs": [
    {
     "data": {
      "text/plain": [
       "Int64Index([], dtype='int64')"
      ]
     },
     "execution_count": 42,
     "metadata": {},
     "output_type": "execute_result"
    }
   ],
   "source": [
    "# To Validate if the code worked to delete ratin_denominator not equal to 10\n",
    "df_new.query(\"rating_denominator != 10\").index\n",
    "\n",
    "#The Code was successful."
   ]
  },
  {
   "cell_type": "markdown",
   "id": "338aa299",
   "metadata": {},
   "source": [
    "### 6.many predictions contains 3 false in df_image, which means those are useless prediction data."
   ]
  },
  {
   "cell_type": "code",
   "execution_count": 43,
   "id": "d375b79c",
   "metadata": {},
   "outputs": [],
   "source": [
    "#To group all false ind Df_image to a df\n",
    "#To drop all false in the data as they are useless\n",
    "\n",
    "false_Dogs = list(df_image.query(\"p1_dog==False and p2_dog==False and p3_dog == False\").index)\n",
    "df_image.drop(index=false_Dogs,inplace=True)"
   ]
  },
  {
   "cell_type": "markdown",
   "id": "7d884263",
   "metadata": {},
   "source": [
    "### 7.  To remove unnecessary columns such as expanded_urls and img_num"
   ]
  },
  {
   "cell_type": "code",
   "execution_count": 44,
   "id": "edcfc4a5",
   "metadata": {},
   "outputs": [],
   "source": [
    "#Io remove img_num and expanded_urls\n",
    "df_new.drop(['img_num', 'expanded_urls'], axis=1, inplace = True)"
   ]
  },
  {
   "cell_type": "code",
   "execution_count": 45,
   "id": "0d75c9e1",
   "metadata": {},
   "outputs": [
    {
     "name": "stdout",
     "output_type": "stream",
     "text": [
      "<class 'pandas.core.frame.DataFrame'>\n",
      "Int64Index: 2080 entries, 0 to 2355\n",
      "Data columns (total 20 columns):\n",
      " #   Column              Non-Null Count  Dtype         \n",
      "---  ------              --------------  -----         \n",
      " 0   tweet_id            2080 non-null   int64         \n",
      " 1   timestamp           2080 non-null   datetime64[ns]\n",
      " 2   source              2080 non-null   object        \n",
      " 3   text                2080 non-null   object        \n",
      " 4   rating_numerator    2080 non-null   int64         \n",
      " 5   rating_denominator  2080 non-null   int64         \n",
      " 6   name                2080 non-null   object        \n",
      " 7   stage               2080 non-null   category      \n",
      " 8   jpg_url             1954 non-null   object        \n",
      " 9   p1                  1954 non-null   object        \n",
      " 10  p1_conf             1954 non-null   float64       \n",
      " 11  p1_dog              1954 non-null   object        \n",
      " 12  p2                  1954 non-null   object        \n",
      " 13  p2_conf             1954 non-null   float64       \n",
      " 14  p2_dog              1954 non-null   object        \n",
      " 15  p3                  1954 non-null   object        \n",
      " 16  p3_conf             1954 non-null   float64       \n",
      " 17  p3_dog              1954 non-null   object        \n",
      " 18  retweet_count       2072 non-null   float64       \n",
      " 19  favorite_count      2072 non-null   float64       \n",
      "dtypes: category(1), datetime64[ns](1), float64(5), int64(3), object(10)\n",
      "memory usage: 327.2+ KB\n"
     ]
    }
   ],
   "source": [
    "# To validate it worked\n",
    "df_new.info()"
   ]
  },
  {
   "cell_type": "markdown",
   "id": "c587ecc6",
   "metadata": {},
   "source": [
    "### 8.The datatype of the \"tweet_id\" column is integer and should be object.\n"
   ]
  },
  {
   "cell_type": "code",
   "execution_count": 46,
   "id": "e5d2b73d",
   "metadata": {
    "scrolled": true
   },
   "outputs": [
    {
     "name": "stdout",
     "output_type": "stream",
     "text": [
      "<class 'pandas.core.frame.DataFrame'>\n",
      "Int64Index: 2080 entries, 0 to 2355\n",
      "Data columns (total 20 columns):\n",
      " #   Column              Non-Null Count  Dtype         \n",
      "---  ------              --------------  -----         \n",
      " 0   tweet_id            2080 non-null   object        \n",
      " 1   timestamp           2080 non-null   datetime64[ns]\n",
      " 2   source              2080 non-null   object        \n",
      " 3   text                2080 non-null   object        \n",
      " 4   rating_numerator    2080 non-null   int64         \n",
      " 5   rating_denominator  2080 non-null   int64         \n",
      " 6   name                2080 non-null   object        \n",
      " 7   stage               2080 non-null   category      \n",
      " 8   jpg_url             1954 non-null   object        \n",
      " 9   p1                  1954 non-null   object        \n",
      " 10  p1_conf             1954 non-null   float64       \n",
      " 11  p1_dog              1954 non-null   object        \n",
      " 12  p2                  1954 non-null   object        \n",
      " 13  p2_conf             1954 non-null   float64       \n",
      " 14  p2_dog              1954 non-null   object        \n",
      " 15  p3                  1954 non-null   object        \n",
      " 16  p3_conf             1954 non-null   float64       \n",
      " 17  p3_dog              1954 non-null   object        \n",
      " 18  retweet_count       2072 non-null   float64       \n",
      " 19  favorite_count      2072 non-null   float64       \n",
      "dtypes: category(1), datetime64[ns](1), float64(5), int64(2), object(11)\n",
      "memory usage: 327.2+ KB\n"
     ]
    }
   ],
   "source": [
    "#To convert Tweet_id to Object\n",
    "#To verify\n",
    "\n",
    "df_new.tweet_id = df_new.tweet_id.astype('object')\n",
    "df_new.info()"
   ]
  },
  {
   "cell_type": "code",
   "execution_count": 47,
   "id": "b3395fb4",
   "metadata": {},
   "outputs": [
    {
     "data": {
      "text/html": [
       "<div>\n",
       "<style scoped>\n",
       "    .dataframe tbody tr th:only-of-type {\n",
       "        vertical-align: middle;\n",
       "    }\n",
       "\n",
       "    .dataframe tbody tr th {\n",
       "        vertical-align: top;\n",
       "    }\n",
       "\n",
       "    .dataframe thead th {\n",
       "        text-align: right;\n",
       "    }\n",
       "</style>\n",
       "<table border=\"1\" class=\"dataframe\">\n",
       "  <thead>\n",
       "    <tr style=\"text-align: right;\">\n",
       "      <th></th>\n",
       "      <th>tweet_id</th>\n",
       "      <th>timestamp</th>\n",
       "      <th>source</th>\n",
       "      <th>text</th>\n",
       "      <th>rating_numerator</th>\n",
       "      <th>rating_denominator</th>\n",
       "      <th>name</th>\n",
       "      <th>stage</th>\n",
       "      <th>jpg_url</th>\n",
       "      <th>p1</th>\n",
       "      <th>p1_conf</th>\n",
       "      <th>p1_dog</th>\n",
       "      <th>p2</th>\n",
       "      <th>p2_conf</th>\n",
       "      <th>p2_dog</th>\n",
       "      <th>p3</th>\n",
       "      <th>p3_conf</th>\n",
       "      <th>p3_dog</th>\n",
       "      <th>retweet_count</th>\n",
       "      <th>favorite_count</th>\n",
       "    </tr>\n",
       "  </thead>\n",
       "  <tbody>\n",
       "    <tr>\n",
       "      <th>0</th>\n",
       "      <td>892420643555336193</td>\n",
       "      <td>2017-08-01 16:23:56</td>\n",
       "      <td>&lt;a href=\"http://twitter.com/download/iphone\" r...</td>\n",
       "      <td>This is Phineas. He's a mystical boy. Only eve...</td>\n",
       "      <td>13</td>\n",
       "      <td>10</td>\n",
       "      <td>Phineas</td>\n",
       "      <td>None</td>\n",
       "      <td>https://pbs.twimg.com/media/DGKD1-bXoAAIAUK.jpg</td>\n",
       "      <td>orange</td>\n",
       "      <td>0.097049</td>\n",
       "      <td>False</td>\n",
       "      <td>bagel</td>\n",
       "      <td>0.085851</td>\n",
       "      <td>False</td>\n",
       "      <td>banana</td>\n",
       "      <td>0.076110</td>\n",
       "      <td>False</td>\n",
       "      <td>6934.0</td>\n",
       "      <td>33219.0</td>\n",
       "    </tr>\n",
       "    <tr>\n",
       "      <th>1</th>\n",
       "      <td>892177421306343426</td>\n",
       "      <td>2017-08-01 00:17:27</td>\n",
       "      <td>&lt;a href=\"http://twitter.com/download/iphone\" r...</td>\n",
       "      <td>This is Tilly. She's just checking pup on you....</td>\n",
       "      <td>13</td>\n",
       "      <td>10</td>\n",
       "      <td>Tilly</td>\n",
       "      <td>None</td>\n",
       "      <td>https://pbs.twimg.com/media/DGGmoV4XsAAUL6n.jpg</td>\n",
       "      <td>Chihuahua</td>\n",
       "      <td>0.323581</td>\n",
       "      <td>True</td>\n",
       "      <td>Pekinese</td>\n",
       "      <td>0.090647</td>\n",
       "      <td>True</td>\n",
       "      <td>papillon</td>\n",
       "      <td>0.068957</td>\n",
       "      <td>True</td>\n",
       "      <td>5239.0</td>\n",
       "      <td>28755.0</td>\n",
       "    </tr>\n",
       "    <tr>\n",
       "      <th>2</th>\n",
       "      <td>891815181378084864</td>\n",
       "      <td>2017-07-31 00:18:03</td>\n",
       "      <td>&lt;a href=\"http://twitter.com/download/iphone\" r...</td>\n",
       "      <td>This is Archie. He is a rare Norwegian Pouncin...</td>\n",
       "      <td>12</td>\n",
       "      <td>10</td>\n",
       "      <td>Archie</td>\n",
       "      <td>None</td>\n",
       "      <td>https://pbs.twimg.com/media/DGBdLU1WsAANxJ9.jpg</td>\n",
       "      <td>Chihuahua</td>\n",
       "      <td>0.716012</td>\n",
       "      <td>True</td>\n",
       "      <td>malamute</td>\n",
       "      <td>0.078253</td>\n",
       "      <td>True</td>\n",
       "      <td>kelpie</td>\n",
       "      <td>0.031379</td>\n",
       "      <td>True</td>\n",
       "      <td>3452.0</td>\n",
       "      <td>21624.0</td>\n",
       "    </tr>\n",
       "    <tr>\n",
       "      <th>3</th>\n",
       "      <td>891689557279858688</td>\n",
       "      <td>2017-07-30 15:58:51</td>\n",
       "      <td>&lt;a href=\"http://twitter.com/download/iphone\" r...</td>\n",
       "      <td>This is Darla. She commenced a snooze mid meal...</td>\n",
       "      <td>13</td>\n",
       "      <td>10</td>\n",
       "      <td>Darla</td>\n",
       "      <td>None</td>\n",
       "      <td>https://pbs.twimg.com/media/DF_q7IAWsAEuuN8.jpg</td>\n",
       "      <td>paper_towel</td>\n",
       "      <td>0.170278</td>\n",
       "      <td>False</td>\n",
       "      <td>Labrador_retriever</td>\n",
       "      <td>0.168086</td>\n",
       "      <td>True</td>\n",
       "      <td>spatula</td>\n",
       "      <td>0.040836</td>\n",
       "      <td>False</td>\n",
       "      <td>7147.0</td>\n",
       "      <td>36229.0</td>\n",
       "    </tr>\n",
       "    <tr>\n",
       "      <th>4</th>\n",
       "      <td>891327558926688256</td>\n",
       "      <td>2017-07-29 16:00:24</td>\n",
       "      <td>&lt;a href=\"http://twitter.com/download/iphone\" r...</td>\n",
       "      <td>This is Franklin. He would like you to stop ca...</td>\n",
       "      <td>12</td>\n",
       "      <td>10</td>\n",
       "      <td>Franklin</td>\n",
       "      <td>None</td>\n",
       "      <td>https://pbs.twimg.com/media/DF6hr6BUMAAzZgT.jpg</td>\n",
       "      <td>basset</td>\n",
       "      <td>0.555712</td>\n",
       "      <td>True</td>\n",
       "      <td>English_springer</td>\n",
       "      <td>0.225770</td>\n",
       "      <td>True</td>\n",
       "      <td>German_short-haired_pointer</td>\n",
       "      <td>0.175219</td>\n",
       "      <td>True</td>\n",
       "      <td>7677.0</td>\n",
       "      <td>34659.0</td>\n",
       "    </tr>\n",
       "  </tbody>\n",
       "</table>\n",
       "</div>"
      ],
      "text/plain": [
       "             tweet_id           timestamp  \\\n",
       "0  892420643555336193 2017-08-01 16:23:56   \n",
       "1  892177421306343426 2017-08-01 00:17:27   \n",
       "2  891815181378084864 2017-07-31 00:18:03   \n",
       "3  891689557279858688 2017-07-30 15:58:51   \n",
       "4  891327558926688256 2017-07-29 16:00:24   \n",
       "\n",
       "                                              source  \\\n",
       "0  <a href=\"http://twitter.com/download/iphone\" r...   \n",
       "1  <a href=\"http://twitter.com/download/iphone\" r...   \n",
       "2  <a href=\"http://twitter.com/download/iphone\" r...   \n",
       "3  <a href=\"http://twitter.com/download/iphone\" r...   \n",
       "4  <a href=\"http://twitter.com/download/iphone\" r...   \n",
       "\n",
       "                                                text  rating_numerator  \\\n",
       "0  This is Phineas. He's a mystical boy. Only eve...                13   \n",
       "1  This is Tilly. She's just checking pup on you....                13   \n",
       "2  This is Archie. He is a rare Norwegian Pouncin...                12   \n",
       "3  This is Darla. She commenced a snooze mid meal...                13   \n",
       "4  This is Franklin. He would like you to stop ca...                12   \n",
       "\n",
       "   rating_denominator      name stage  \\\n",
       "0                  10   Phineas  None   \n",
       "1                  10     Tilly  None   \n",
       "2                  10    Archie  None   \n",
       "3                  10     Darla  None   \n",
       "4                  10  Franklin  None   \n",
       "\n",
       "                                           jpg_url           p1   p1_conf  \\\n",
       "0  https://pbs.twimg.com/media/DGKD1-bXoAAIAUK.jpg       orange  0.097049   \n",
       "1  https://pbs.twimg.com/media/DGGmoV4XsAAUL6n.jpg    Chihuahua  0.323581   \n",
       "2  https://pbs.twimg.com/media/DGBdLU1WsAANxJ9.jpg    Chihuahua  0.716012   \n",
       "3  https://pbs.twimg.com/media/DF_q7IAWsAEuuN8.jpg  paper_towel  0.170278   \n",
       "4  https://pbs.twimg.com/media/DF6hr6BUMAAzZgT.jpg       basset  0.555712   \n",
       "\n",
       "  p1_dog                  p2   p2_conf p2_dog                           p3  \\\n",
       "0  False               bagel  0.085851  False                       banana   \n",
       "1   True            Pekinese  0.090647   True                     papillon   \n",
       "2   True            malamute  0.078253   True                       kelpie   \n",
       "3  False  Labrador_retriever  0.168086   True                      spatula   \n",
       "4   True    English_springer  0.225770   True  German_short-haired_pointer   \n",
       "\n",
       "    p3_conf p3_dog  retweet_count  favorite_count  \n",
       "0  0.076110  False         6934.0         33219.0  \n",
       "1  0.068957   True         5239.0         28755.0  \n",
       "2  0.031379   True         3452.0         21624.0  \n",
       "3  0.040836  False         7147.0         36229.0  \n",
       "4  0.175219   True         7677.0         34659.0  "
      ]
     },
     "execution_count": 47,
     "metadata": {},
     "output_type": "execute_result"
    }
   ],
   "source": [
    "df_new.head()"
   ]
  },
  {
   "cell_type": "code",
   "execution_count": 48,
   "id": "ba04b317",
   "metadata": {},
   "outputs": [
    {
     "data": {
      "text/html": [
       "<div>\n",
       "<style scoped>\n",
       "    .dataframe tbody tr th:only-of-type {\n",
       "        vertical-align: middle;\n",
       "    }\n",
       "\n",
       "    .dataframe tbody tr th {\n",
       "        vertical-align: top;\n",
       "    }\n",
       "\n",
       "    .dataframe thead th {\n",
       "        text-align: right;\n",
       "    }\n",
       "</style>\n",
       "<table border=\"1\" class=\"dataframe\">\n",
       "  <thead>\n",
       "    <tr style=\"text-align: right;\">\n",
       "      <th></th>\n",
       "      <th>rating_numerator</th>\n",
       "      <th>rating_denominator</th>\n",
       "      <th>p1_conf</th>\n",
       "      <th>p2_conf</th>\n",
       "      <th>p3_conf</th>\n",
       "      <th>retweet_count</th>\n",
       "      <th>favorite_count</th>\n",
       "    </tr>\n",
       "  </thead>\n",
       "  <tbody>\n",
       "    <tr>\n",
       "      <th>count</th>\n",
       "      <td>2080.000000</td>\n",
       "      <td>2080.0</td>\n",
       "      <td>1954.000000</td>\n",
       "      <td>1.954000e+03</td>\n",
       "      <td>1.954000e+03</td>\n",
       "      <td>2072.000000</td>\n",
       "      <td>2072.000000</td>\n",
       "    </tr>\n",
       "    <tr>\n",
       "      <th>mean</th>\n",
       "      <td>11.698077</td>\n",
       "      <td>10.0</td>\n",
       "      <td>0.594065</td>\n",
       "      <td>1.348960e-01</td>\n",
       "      <td>6.010819e-02</td>\n",
       "      <td>2279.353764</td>\n",
       "      <td>7651.650579</td>\n",
       "    </tr>\n",
       "    <tr>\n",
       "      <th>std</th>\n",
       "      <td>39.816875</td>\n",
       "      <td>0.0</td>\n",
       "      <td>0.272336</td>\n",
       "      <td>1.011622e-01</td>\n",
       "      <td>5.080867e-02</td>\n",
       "      <td>3996.338175</td>\n",
       "      <td>11146.199840</td>\n",
       "    </tr>\n",
       "    <tr>\n",
       "      <th>min</th>\n",
       "      <td>0.000000</td>\n",
       "      <td>10.0</td>\n",
       "      <td>0.044333</td>\n",
       "      <td>1.011300e-08</td>\n",
       "      <td>1.740170e-10</td>\n",
       "      <td>11.000000</td>\n",
       "      <td>64.000000</td>\n",
       "    </tr>\n",
       "    <tr>\n",
       "      <th>25%</th>\n",
       "      <td>10.000000</td>\n",
       "      <td>10.0</td>\n",
       "      <td>0.362656</td>\n",
       "      <td>5.361625e-02</td>\n",
       "      <td>1.598680e-02</td>\n",
       "      <td>503.250000</td>\n",
       "      <td>1681.000000</td>\n",
       "    </tr>\n",
       "    <tr>\n",
       "      <th>50%</th>\n",
       "      <td>11.000000</td>\n",
       "      <td>10.0</td>\n",
       "      <td>0.587440</td>\n",
       "      <td>1.175870e-01</td>\n",
       "      <td>4.947920e-02</td>\n",
       "      <td>1099.000000</td>\n",
       "      <td>3486.500000</td>\n",
       "    </tr>\n",
       "    <tr>\n",
       "      <th>75%</th>\n",
       "      <td>12.000000</td>\n",
       "      <td>10.0</td>\n",
       "      <td>0.846897</td>\n",
       "      <td>1.962177e-01</td>\n",
       "      <td>9.155483e-02</td>\n",
       "      <td>2601.250000</td>\n",
       "      <td>9545.750000</td>\n",
       "    </tr>\n",
       "    <tr>\n",
       "      <th>max</th>\n",
       "      <td>1776.000000</td>\n",
       "      <td>10.0</td>\n",
       "      <td>1.000000</td>\n",
       "      <td>4.880140e-01</td>\n",
       "      <td>2.710420e-01</td>\n",
       "      <td>69898.000000</td>\n",
       "      <td>142839.000000</td>\n",
       "    </tr>\n",
       "  </tbody>\n",
       "</table>\n",
       "</div>"
      ],
      "text/plain": [
       "       rating_numerator  rating_denominator      p1_conf       p2_conf  \\\n",
       "count       2080.000000              2080.0  1954.000000  1.954000e+03   \n",
       "mean          11.698077                10.0     0.594065  1.348960e-01   \n",
       "std           39.816875                 0.0     0.272336  1.011622e-01   \n",
       "min            0.000000                10.0     0.044333  1.011300e-08   \n",
       "25%           10.000000                10.0     0.362656  5.361625e-02   \n",
       "50%           11.000000                10.0     0.587440  1.175870e-01   \n",
       "75%           12.000000                10.0     0.846897  1.962177e-01   \n",
       "max         1776.000000                10.0     1.000000  4.880140e-01   \n",
       "\n",
       "            p3_conf  retweet_count  favorite_count  \n",
       "count  1.954000e+03    2072.000000     2072.000000  \n",
       "mean   6.010819e-02    2279.353764     7651.650579  \n",
       "std    5.080867e-02    3996.338175    11146.199840  \n",
       "min    1.740170e-10      11.000000       64.000000  \n",
       "25%    1.598680e-02     503.250000     1681.000000  \n",
       "50%    4.947920e-02    1099.000000     3486.500000  \n",
       "75%    9.155483e-02    2601.250000     9545.750000  \n",
       "max    2.710420e-01   69898.000000   142839.000000  "
      ]
     },
     "execution_count": 48,
     "metadata": {},
     "output_type": "execute_result"
    }
   ],
   "source": [
    "df_new.describe()"
   ]
  },
  {
   "cell_type": "markdown",
   "id": "4ee8987b",
   "metadata": {},
   "source": [
    "### Storing the Data"
   ]
  },
  {
   "cell_type": "markdown",
   "id": "13aed442",
   "metadata": {},
   "source": [
    "Save gathered, assessed, and cleaned master dataset to a CSV file named \"twitter_archive_master.csv\"."
   ]
  },
  {
   "cell_type": "code",
   "execution_count": 49,
   "id": "53ba1fa8",
   "metadata": {},
   "outputs": [],
   "source": [
    "df_new.to_csv('twitter_archive_master.csv', encoding = 'utf-8', index =False)"
   ]
  },
  {
   "cell_type": "markdown",
   "id": "5c1fd511",
   "metadata": {},
   "source": [
    "### Analyzing and Visualizing Data"
   ]
  },
  {
   "cell_type": "markdown",
   "id": "95f29273",
   "metadata": {},
   "source": [
    "####  In this section, I will analyze and visualize my wrangled data. I must produce at least three (3) insights and one (1) visualization."
   ]
  },
  {
   "cell_type": "markdown",
   "id": "ac3d4a7d",
   "metadata": {},
   "source": [
    "### 1. What is the most popular dog name?\n",
    "### 2.  Which dog stage do we have the most?\n",
    "### 3.  Where are the primary source of the data From?\n"
   ]
  },
  {
   "cell_type": "code",
   "execution_count": 50,
   "id": "cd90d865",
   "metadata": {
    "scrolled": false
   },
   "outputs": [
    {
     "name": "stdout",
     "output_type": "stream",
     "text": [
      "<class 'pandas.core.frame.DataFrame'>\n",
      "RangeIndex: 2080 entries, 0 to 2079\n",
      "Data columns (total 20 columns):\n",
      " #   Column              Non-Null Count  Dtype  \n",
      "---  ------              --------------  -----  \n",
      " 0   tweet_id            2080 non-null   int64  \n",
      " 1   timestamp           2080 non-null   object \n",
      " 2   source              2080 non-null   object \n",
      " 3   text                2080 non-null   object \n",
      " 4   rating_numerator    2080 non-null   int64  \n",
      " 5   rating_denominator  2080 non-null   int64  \n",
      " 6   name                2080 non-null   object \n",
      " 7   stage               2080 non-null   object \n",
      " 8   jpg_url             1954 non-null   object \n",
      " 9   p1                  1954 non-null   object \n",
      " 10  p1_conf             1954 non-null   float64\n",
      " 11  p1_dog              1954 non-null   object \n",
      " 12  p2                  1954 non-null   object \n",
      " 13  p2_conf             1954 non-null   float64\n",
      " 14  p2_dog              1954 non-null   object \n",
      " 15  p3                  1954 non-null   object \n",
      " 16  p3_conf             1954 non-null   float64\n",
      " 17  p3_dog              1954 non-null   object \n",
      " 18  retweet_count       2072 non-null   float64\n",
      " 19  favorite_count      2072 non-null   float64\n",
      "dtypes: float64(5), int64(3), object(12)\n",
      "memory usage: 325.1+ KB\n"
     ]
    }
   ],
   "source": [
    "Twitter_archive_master=pd.read_csv(\"Twitter_archive_master.csv\")\n",
    "Twitter_archive_master.info()"
   ]
  },
  {
   "cell_type": "code",
   "execution_count": 51,
   "id": "b1f8c640",
   "metadata": {
    "scrolled": true
   },
   "outputs": [
    {
     "data": {
      "text/html": [
       "<div>\n",
       "<style scoped>\n",
       "    .dataframe tbody tr th:only-of-type {\n",
       "        vertical-align: middle;\n",
       "    }\n",
       "\n",
       "    .dataframe tbody tr th {\n",
       "        vertical-align: top;\n",
       "    }\n",
       "\n",
       "    .dataframe thead th {\n",
       "        text-align: right;\n",
       "    }\n",
       "</style>\n",
       "<table border=\"1\" class=\"dataframe\">\n",
       "  <thead>\n",
       "    <tr style=\"text-align: right;\">\n",
       "      <th></th>\n",
       "      <th>tweet_id</th>\n",
       "      <th>timestamp</th>\n",
       "      <th>source</th>\n",
       "      <th>text</th>\n",
       "      <th>rating_numerator</th>\n",
       "      <th>rating_denominator</th>\n",
       "      <th>name</th>\n",
       "      <th>stage</th>\n",
       "      <th>jpg_url</th>\n",
       "      <th>p1</th>\n",
       "      <th>p1_conf</th>\n",
       "      <th>p1_dog</th>\n",
       "      <th>p2</th>\n",
       "      <th>p2_conf</th>\n",
       "      <th>p2_dog</th>\n",
       "      <th>p3</th>\n",
       "      <th>p3_conf</th>\n",
       "      <th>p3_dog</th>\n",
       "      <th>retweet_count</th>\n",
       "      <th>favorite_count</th>\n",
       "    </tr>\n",
       "  </thead>\n",
       "  <tbody>\n",
       "    <tr>\n",
       "      <th>0</th>\n",
       "      <td>892420643555336193</td>\n",
       "      <td>2017-08-01 16:23:56</td>\n",
       "      <td>&lt;a href=\"http://twitter.com/download/iphone\" r...</td>\n",
       "      <td>This is Phineas. He's a mystical boy. Only eve...</td>\n",
       "      <td>13</td>\n",
       "      <td>10</td>\n",
       "      <td>Phineas</td>\n",
       "      <td>None</td>\n",
       "      <td>https://pbs.twimg.com/media/DGKD1-bXoAAIAUK.jpg</td>\n",
       "      <td>orange</td>\n",
       "      <td>0.097049</td>\n",
       "      <td>False</td>\n",
       "      <td>bagel</td>\n",
       "      <td>0.085851</td>\n",
       "      <td>False</td>\n",
       "      <td>banana</td>\n",
       "      <td>0.076110</td>\n",
       "      <td>False</td>\n",
       "      <td>6934.0</td>\n",
       "      <td>33219.0</td>\n",
       "    </tr>\n",
       "    <tr>\n",
       "      <th>1</th>\n",
       "      <td>892177421306343426</td>\n",
       "      <td>2017-08-01 00:17:27</td>\n",
       "      <td>&lt;a href=\"http://twitter.com/download/iphone\" r...</td>\n",
       "      <td>This is Tilly. She's just checking pup on you....</td>\n",
       "      <td>13</td>\n",
       "      <td>10</td>\n",
       "      <td>Tilly</td>\n",
       "      <td>None</td>\n",
       "      <td>https://pbs.twimg.com/media/DGGmoV4XsAAUL6n.jpg</td>\n",
       "      <td>Chihuahua</td>\n",
       "      <td>0.323581</td>\n",
       "      <td>True</td>\n",
       "      <td>Pekinese</td>\n",
       "      <td>0.090647</td>\n",
       "      <td>True</td>\n",
       "      <td>papillon</td>\n",
       "      <td>0.068957</td>\n",
       "      <td>True</td>\n",
       "      <td>5239.0</td>\n",
       "      <td>28755.0</td>\n",
       "    </tr>\n",
       "  </tbody>\n",
       "</table>\n",
       "</div>"
      ],
      "text/plain": [
       "             tweet_id            timestamp  \\\n",
       "0  892420643555336193  2017-08-01 16:23:56   \n",
       "1  892177421306343426  2017-08-01 00:17:27   \n",
       "\n",
       "                                              source  \\\n",
       "0  <a href=\"http://twitter.com/download/iphone\" r...   \n",
       "1  <a href=\"http://twitter.com/download/iphone\" r...   \n",
       "\n",
       "                                                text  rating_numerator  \\\n",
       "0  This is Phineas. He's a mystical boy. Only eve...                13   \n",
       "1  This is Tilly. She's just checking pup on you....                13   \n",
       "\n",
       "   rating_denominator     name stage  \\\n",
       "0                  10  Phineas  None   \n",
       "1                  10    Tilly  None   \n",
       "\n",
       "                                           jpg_url         p1   p1_conf  \\\n",
       "0  https://pbs.twimg.com/media/DGKD1-bXoAAIAUK.jpg     orange  0.097049   \n",
       "1  https://pbs.twimg.com/media/DGGmoV4XsAAUL6n.jpg  Chihuahua  0.323581   \n",
       "\n",
       "  p1_dog        p2   p2_conf p2_dog        p3   p3_conf p3_dog  retweet_count  \\\n",
       "0  False     bagel  0.085851  False    banana  0.076110  False         6934.0   \n",
       "1   True  Pekinese  0.090647   True  papillon  0.068957   True         5239.0   \n",
       "\n",
       "   favorite_count  \n",
       "0         33219.0  \n",
       "1         28755.0  "
      ]
     },
     "execution_count": 51,
     "metadata": {},
     "output_type": "execute_result"
    }
   ],
   "source": [
    "Twitter_archive_master.head(2)"
   ]
  },
  {
   "cell_type": "code",
   "execution_count": 52,
   "id": "6700bb52",
   "metadata": {
    "scrolled": false
   },
   "outputs": [
    {
     "data": {
      "text/html": [
       "<div>\n",
       "<style scoped>\n",
       "    .dataframe tbody tr th:only-of-type {\n",
       "        vertical-align: middle;\n",
       "    }\n",
       "\n",
       "    .dataframe tbody tr th {\n",
       "        vertical-align: top;\n",
       "    }\n",
       "\n",
       "    .dataframe thead th {\n",
       "        text-align: right;\n",
       "    }\n",
       "</style>\n",
       "<table border=\"1\" class=\"dataframe\">\n",
       "  <thead>\n",
       "    <tr style=\"text-align: right;\">\n",
       "      <th></th>\n",
       "      <th>tweet_id</th>\n",
       "      <th>rating_numerator</th>\n",
       "      <th>rating_denominator</th>\n",
       "      <th>p1_conf</th>\n",
       "      <th>p2_conf</th>\n",
       "      <th>p3_conf</th>\n",
       "      <th>retweet_count</th>\n",
       "      <th>favorite_count</th>\n",
       "    </tr>\n",
       "  </thead>\n",
       "  <tbody>\n",
       "    <tr>\n",
       "      <th>count</th>\n",
       "      <td>2.080000e+03</td>\n",
       "      <td>2080.000000</td>\n",
       "      <td>2080.0</td>\n",
       "      <td>1954.000000</td>\n",
       "      <td>1.954000e+03</td>\n",
       "      <td>1.954000e+03</td>\n",
       "      <td>2072.000000</td>\n",
       "      <td>2072.000000</td>\n",
       "    </tr>\n",
       "    <tr>\n",
       "      <th>mean</th>\n",
       "      <td>7.367027e+17</td>\n",
       "      <td>11.698077</td>\n",
       "      <td>10.0</td>\n",
       "      <td>0.594065</td>\n",
       "      <td>1.348960e-01</td>\n",
       "      <td>6.010819e-02</td>\n",
       "      <td>2279.353764</td>\n",
       "      <td>7651.650579</td>\n",
       "    </tr>\n",
       "    <tr>\n",
       "      <th>std</th>\n",
       "      <td>6.724699e+16</td>\n",
       "      <td>39.816875</td>\n",
       "      <td>0.0</td>\n",
       "      <td>0.272336</td>\n",
       "      <td>1.011622e-01</td>\n",
       "      <td>5.080867e-02</td>\n",
       "      <td>3996.338175</td>\n",
       "      <td>11146.199840</td>\n",
       "    </tr>\n",
       "    <tr>\n",
       "      <th>min</th>\n",
       "      <td>6.660209e+17</td>\n",
       "      <td>0.000000</td>\n",
       "      <td>10.0</td>\n",
       "      <td>0.044333</td>\n",
       "      <td>1.011300e-08</td>\n",
       "      <td>1.740170e-10</td>\n",
       "      <td>11.000000</td>\n",
       "      <td>64.000000</td>\n",
       "    </tr>\n",
       "    <tr>\n",
       "      <th>25%</th>\n",
       "      <td>6.767367e+17</td>\n",
       "      <td>10.000000</td>\n",
       "      <td>10.0</td>\n",
       "      <td>0.362656</td>\n",
       "      <td>5.361625e-02</td>\n",
       "      <td>1.598680e-02</td>\n",
       "      <td>503.250000</td>\n",
       "      <td>1681.000000</td>\n",
       "    </tr>\n",
       "    <tr>\n",
       "      <th>50%</th>\n",
       "      <td>7.097095e+17</td>\n",
       "      <td>11.000000</td>\n",
       "      <td>10.0</td>\n",
       "      <td>0.587440</td>\n",
       "      <td>1.175870e-01</td>\n",
       "      <td>4.947920e-02</td>\n",
       "      <td>1099.000000</td>\n",
       "      <td>3486.500000</td>\n",
       "    </tr>\n",
       "    <tr>\n",
       "      <th>75%</th>\n",
       "      <td>7.880674e+17</td>\n",
       "      <td>12.000000</td>\n",
       "      <td>10.0</td>\n",
       "      <td>0.846897</td>\n",
       "      <td>1.962177e-01</td>\n",
       "      <td>9.155483e-02</td>\n",
       "      <td>2601.250000</td>\n",
       "      <td>9545.750000</td>\n",
       "    </tr>\n",
       "    <tr>\n",
       "      <th>max</th>\n",
       "      <td>8.924206e+17</td>\n",
       "      <td>1776.000000</td>\n",
       "      <td>10.0</td>\n",
       "      <td>1.000000</td>\n",
       "      <td>4.880140e-01</td>\n",
       "      <td>2.710420e-01</td>\n",
       "      <td>69898.000000</td>\n",
       "      <td>142839.000000</td>\n",
       "    </tr>\n",
       "  </tbody>\n",
       "</table>\n",
       "</div>"
      ],
      "text/plain": [
       "           tweet_id  rating_numerator  rating_denominator      p1_conf  \\\n",
       "count  2.080000e+03       2080.000000              2080.0  1954.000000   \n",
       "mean   7.367027e+17         11.698077                10.0     0.594065   \n",
       "std    6.724699e+16         39.816875                 0.0     0.272336   \n",
       "min    6.660209e+17          0.000000                10.0     0.044333   \n",
       "25%    6.767367e+17         10.000000                10.0     0.362656   \n",
       "50%    7.097095e+17         11.000000                10.0     0.587440   \n",
       "75%    7.880674e+17         12.000000                10.0     0.846897   \n",
       "max    8.924206e+17       1776.000000                10.0     1.000000   \n",
       "\n",
       "            p2_conf       p3_conf  retweet_count  favorite_count  \n",
       "count  1.954000e+03  1.954000e+03    2072.000000     2072.000000  \n",
       "mean   1.348960e-01  6.010819e-02    2279.353764     7651.650579  \n",
       "std    1.011622e-01  5.080867e-02    3996.338175    11146.199840  \n",
       "min    1.011300e-08  1.740170e-10      11.000000       64.000000  \n",
       "25%    5.361625e-02  1.598680e-02     503.250000     1681.000000  \n",
       "50%    1.175870e-01  4.947920e-02    1099.000000     3486.500000  \n",
       "75%    1.962177e-01  9.155483e-02    2601.250000     9545.750000  \n",
       "max    4.880140e-01  2.710420e-01   69898.000000   142839.000000  "
      ]
     },
     "execution_count": 52,
     "metadata": {},
     "output_type": "execute_result"
    }
   ],
   "source": [
    "Twitter_archive_master.describe()"
   ]
  },
  {
   "cell_type": "markdown",
   "id": "176b9880",
   "metadata": {},
   "source": [
    "#### 1. What is the most popular dog name?"
   ]
  },
  {
   "cell_type": "code",
   "execution_count": 53,
   "id": "b0a82e38",
   "metadata": {
    "scrolled": false
   },
   "outputs": [
    {
     "data": {
      "text/plain": [
       "None       592\n",
       "none        59\n",
       "Lucy        11\n",
       "Charlie     11\n",
       "Oliver      10\n",
       "Cooper      10\n",
       "Tucker       9\n",
       "Penny        9\n",
       "Sadie        8\n",
       "the          8\n",
       "Name: name, dtype: int64"
      ]
     },
     "execution_count": 53,
     "metadata": {},
     "output_type": "execute_result"
    }
   ],
   "source": [
    "#To confirm the post popular name in programmatically.\n",
    "\n",
    "popular_name = Twitter_archive_master.name.value_counts()\n",
    "popular_name = popular_name.head(10)\n",
    "popular_name"
   ]
  },
  {
   "cell_type": "code",
   "execution_count": 54,
   "id": "c77f6973",
   "metadata": {
    "scrolled": false
   },
   "outputs": [
    {
     "data": {
      "image/png": "[encoded data removed]",
      "text/plain": [
       "<Figure size 720x720 with 1 Axes>"
      ]
     },
     "metadata": {
      "needs_background": "light"
     },
     "output_type": "display_data"
    }
   ],
   "source": [
    "#To Visualize the most popular dog name.\n",
    "# I used the bar chart as my visualization model.\n",
    "\n",
    "popular_name.plot(kind='bar', figsize=(10,10), color = 'blue')  \n",
    "\n",
    "plt.title('Most popular Dog Name', fontsize=15)  \n",
    "plt.xlabel('Dog Names', fontsize=15)               \n",
    "plt.ylabel('Number of Dogs', fontsize=15);"
   ]
  },
  {
   "cell_type": "markdown",
   "id": "dd4baf3b",
   "metadata": {},
   "source": [
    "####  Aside none, the most popular names in this dataframe are Lucy and Charlie"
   ]
  },
  {
   "cell_type": "markdown",
   "id": "28b2b508",
   "metadata": {},
   "source": [
    "#### 2. What dog stage do we have the most?"
   ]
  },
  {
   "cell_type": "code",
   "execution_count": 55,
   "id": "1f562581",
   "metadata": {
    "scrolled": true
   },
   "outputs": [
    {
     "data": {
      "text/plain": [
       "<bound method Series.info of None       1744\n",
       "pupper      230\n",
       "doggo        72\n",
       "puppo        24\n",
       "floofer      10\n",
       "Name: stage, dtype: int64>"
      ]
     },
     "execution_count": 55,
     "metadata": {},
     "output_type": "execute_result"
    }
   ],
   "source": [
    "Stage= Twitter_archive_master['stage'].value_counts()\n",
    "Stage.info"
   ]
  },
  {
   "cell_type": "code",
   "execution_count": 56,
   "id": "0356d4c8",
   "metadata": {},
   "outputs": [
    {
     "data": {
      "image/png": "[encoded data removed]",
      "text/plain": [
       "<Figure size 720x720 with 1 Axes>"
      ]
     },
     "metadata": {
      "needs_background": "light"
     },
     "output_type": "display_data"
    }
   ],
   "source": [
    "#To visulaize dog stages in a bar char\n",
    "\n",
    "Stage.plot(kind='bar', figsize=(10,10), color = 'blue')\n",
    "plt.title(\"stage\",fontsize=10)\n",
    "plt.xlabel('stage',fontsize=10)\n",
    "plt.ylabel(\"stage\",fontsize= 18)\n",
    "sns.set_style(\"whitegrid\")"
   ]
  },
  {
   "cell_type": "markdown",
   "id": "02c54e40",
   "metadata": {},
   "source": [
    "#### Asides none, the most common dog stage is the pupper"
   ]
  },
  {
   "cell_type": "markdown",
   "id": "011333be",
   "metadata": {},
   "source": [
    "### 3. Where are the primary source of the data From?"
   ]
  },
  {
   "cell_type": "code",
   "execution_count": 57,
   "id": "29aa8525",
   "metadata": {
    "scrolled": true
   },
   "outputs": [
    {
     "data": {
      "text/plain": [
       "<a href=\"http://twitter.com/download/iphone\" rel=\"nofollow\">Twitter for iPhone</a>     1947\n",
       "<a href=\"http://vine.co\" rel=\"nofollow\">Vine - Make a Scene</a>                          91\n",
       "<a href=\"http://twitter.com\" rel=\"nofollow\">Twitter Web Client</a>                       31\n",
       "<a href=\"https://about.twitter.com/products/tweetdeck\" rel=\"nofollow\">TweetDeck</a>      11\n",
       "Name: source, dtype: int64"
      ]
     },
     "execution_count": 57,
     "metadata": {},
     "output_type": "execute_result"
    }
   ],
   "source": [
    "#Determine the source of tweets\n",
    "Twitter_archive_master['source'].value_counts()"
   ]
  },
  {
   "cell_type": "markdown",
   "id": "b9473b43",
   "metadata": {},
   "source": [
    "### The primary source of the tweet are from Twitter for iphone"
   ]
  },
  {
   "cell_type": "markdown",
   "id": "e40ac6bb",
   "metadata": {},
   "source": [
    "#### THIS IS THE END OF MY DATA WRANGLING."
   ]
  },
  {
   "cell_type": "code",
   "execution_count": null,
   "id": "73894bfa",
   "metadata": {},
   "outputs": [],
   "source": []
  }
 ],
 "metadata": {
  "kernelspec": {
   "display_name": "Python 3 (ipykernel)",
   "language": "python",
   "name": "python3"
  },
  "language_info": {
   "codemirror_mode": {
    "name": "ipython",
    "version": 3
   },
   "file_extension": ".py",
   "mimetype": "text/x-python",
   "name": "python",
   "nbconvert_exporter": "python",
   "pygments_lexer": "ipython3",
   "version": "3.9.12"
  }
 },
 "nbformat": 4,
 "nbformat_minor": 5
}
